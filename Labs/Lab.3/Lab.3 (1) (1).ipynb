{
 "cells": [
  {
   "cell_type": "markdown",
   "metadata": {},
   "source": [
    "# Lab 3\n",
    "\n",
    "In this lab we will become familiar with distributions, histograms, and functional programming. Do not use numpy or any other library for this lab.\n",
    "\n",
    "Before that, lets get setup homework submission and submit your previous lab.  \n",
    "\n",
    "## Working on the Command-line.\n",
    "\n",
    "It is important for you to learn to work on the command line and to be familiar with the Unix environment (e.g. Linux, Mac OS, or Windows Linux Subsystem). We'll go over working on the command-line in detail later in the course.\n",
    "\n",
    "You are required to submit your work in this course via GitHub. Today in class, you will setup everything on the command-line.\n",
    "\n",
    "### Command-line basics\n",
    "\n",
    "There is plenty of material online that will help you figure out how to do various tasks on the command line. Commands you may need to know today:\n",
    "\n",
    "* `ls`: lists the contents of the current directory.\n",
    "* `pwd`: prints the path of the current directory.\n",
    "* `cd <directory>`: changes your current directory to the specified directory.\n",
    "* `cd ..`: changes current directory to the previous directory. Basically steps out of the current directory to the directory containing the current directory.\n",
    "* `mkdir <directory>`: create a new directory with the specified name.\n",
    "* `rmdir <directory>`: removes the specified directory. Note it has to be empty.\n",
    "* `rm <filename>`: deletes the specified file.\n",
    "* `mv <filename 1> <filename 1>`: Moves or renames a file.\n",
    "* `cp <filename 1> <filename 2>`: copies an file. If you just provide a path to a directory, it copies the file into that directory with the same filename. If you specifiy a new filename, the copy has a new name. For example `cp File.1.txt File.2.txt` creates a copy of `File.1.txt` with the name `File.2.txt`. Meanwhile `cp File.1.txt my_directory`, where `my_directory` is a directory, creates a copy of `File.1.txt` in directory `my_directory` with the name `File.1.txt`.\n",
    "\n",
    "For reference, here are some example resources I found by googling:\n",
    "\n",
    "* Paths and Wildcards: https://www.warp.dev/terminus/linux-wildcards\n",
    "* Basic commands like copy: https://kb.iu.edu/d/afsk\n",
    "* General introduction to shell: https://github-pages.ucl.ac.uk/RCPSTrainingMaterials/HPCandHTCusingLegion/2_intro_to_shell.html\n",
    "* Manual pages: https://www.geeksforgeeks.org/linux-man-page-entries-different-types/?ref=ml_lbp\n",
    "* Chaining commands: https://www.geeksforgeeks.org/chaining-commands-in-linux/?ref=ml_lbp\n",
    "* Piping: https://www.geeksforgeeks.org/piping-in-unix-or-linux/\n",
    "* Using sed: https://www.geeksforgeeks.org/sed-command-linux-set-2/?ref=ml_lbp\n",
    "* Various Unix commands: https://www.geeksforgeeks.org/linux-commands/?ref=lbp\n",
    "* Cheat sheets:\n",
    "    * https://www.stationx.net/unix-commands-cheat-sheet/\n",
    "    * https://cheatography.com/davechild/cheat-sheets/linux-command-line/\n",
    "    * https://www.theknowledgeacademy.com/blog/unix-commands-cheat-sheet/\n",
    "    \n",
    "These aren't necessarily the best resources. Feel free to search for better ones. Also, don't forget that Unix has built-in manual pages for all of its commands. Just type `man <command>` at the command prompt. Use the space-bar to scroll through the documentation and \"q\" to exit.\n",
    "\n",
    "\n",
    "### Setup and Submission\n",
    "\n",
    "Our course repository is public. The instructions here aim to have you setup a fork of the course repository. Unfortunately because you are forking a public repo, your fork will have to be public also. \n",
    "\n",
    "You should be familiar with git from the first semester of this course. I assume that you all have github accounts and have setup things to be able to [push to github using ssh](https://docs.github.com/en/github/authenticating-to-github/connecting-to-github-with-ssh). The instuctions here lead you to:\n",
    "\n",
    "We'll overview what you will do before going through step by step instructions.\n",
    "\n",
    "1. Setup:\n",
    "    1. Fork the class repository. Some directions in [fork-a-repo](https://docs.github.com/en/github/getting-started-with-github/fork-a-repo).\n",
    "    1. Create a directory on your personal system where you will keep all course materials.\n",
    "    1. In that directory, clone your fork of the repository.\n",
    "    1. Using `git remote`, set the upstream to be the class repo, so you can pull from the class and push to your fork.\n",
    "\n",
    "1. Submission:\n",
    "    1. Copy your solutions into the appropriate directory (e.g. into `Labs/Lab.2/`) and with appropriate filename `Lab.2.solution.ipynb'.\n",
    "    1. Commit / push your solutions.\n",
    "    1. Grant access to course instructors.\n",
    "\n",
    "Below are step by step instructions with examples (including example directory naming convention). Feel free to modify things as you see fit. \n",
    "\n",
    "#### Setup\n",
    "You should only need to follow this instructions once. Here are some useful git commands:\n",
    "\n",
    "* Git help: `git help`\n",
    "* Git remote help: `git help remote`\n",
    "* Check remote status: `git remote -v`\n",
    "* Add a remote: `git remote add <stream name> <repo URL>`\n",
    "* Add a remove: `git remote remove <stream name>`\n",
    "\n",
    "Steps:\n",
    "1. In a browser, log into GitHub and navigate to the [course repository](https://github.com/UTA-DataScience/DATA3402.Fall.2024).\n",
    "1. On the top right of the page, press the fork button to create a new fork into your own GitHub account.\n",
    "1. After successful fork, you should find the browser showing your fork of the course repository. Use the green \"Code\" button to copy path to the repo into your the clipboard of your computer.\n",
    "1. Open a shell on your personal computer.\n",
    "1. If you have not done so already, create a new directory/folder where you will keep all course material to navigate to it. For example: `mkdir Data-3402` and `cd Data-3402`.\n",
    "1. Clone your fork of the repository using `git clone` followed by the path you copied into your clipboard. (copy/paste)\n",
    "1. Paste the URL to your fork in the worksheet for the TAs and instructors.\n",
    "1. Now go into the directory of your clone (`cd DATA3402.Fall.2024`).\n",
    "1. Type `git remote -v` to see the current setup for fetch and pull.\n",
    "1. Note the URL you see. This should be the same as what you used for your clone for both push and fetch.\n",
    "1. Delete the origin remote using `git remote remove origin`.\n",
    "1. Add the course repo as your remote using `git remote add origin https://github.com/UTA-DataScience/DATA3402.Fall.2024.git`.\n",
    "1. Change the push to point to your fork. This means you will need the URL to your clone we copied earlier and confirmed as the original origin. The command will look something like: `git remote set-url --push origin  https://github.com/XXXXXX/DATA3402.Fall.2024.git`, where XXXXX is your username on GitHub.\n",
    "1. Note that if you setup everything correctly, you now should be able to do `git pull` to get updates from the course repo, and do `git push` to push your commits into your own fork.\n",
    "\n",
    "### Submission\n",
    "These instructions outline how you submit files. Some useful commands:\n",
    "* To add a file to local repository: `git add <file>`.\n",
    "* To commit all changed files into local repository: `git -a -m \"A message\"`. You need to provide some comment when you commit. \n",
    "* To push the commited files from the local repository to GitHub: `git push`.\n",
    "* To get updates from GitHub: `git pull`.\n",
    "\n",
    "Steps:\n",
    "1. To submit your labs, navigate to your clone of your fork of the course repository. \n",
    "1. Use `git pull` to make sure you have the latest updates. \n",
    "1. Make sure your copy of the lab your are working on is in the appropriate place in this clone. That means if you have the file elsewhere, copy it to the same directory in your clone of your fork. \n",
    "1. Note that in order to avoid future conflicts, you should always name your solution differently than the original file in the class repo. For example if your file is still named `Lab.2.ipynb` you should rename it using the `mv` command: `mv Lab.2.ipynb Lab.2.solution.ipynb`. \n",
    "1. Add and files you wish to submit into the repo. For example: `git add Labs/Lab.2/Lab.2.solution.ipynb`\n",
    "1. Commit any changes: `git commit -a -m \"Lab 2 updates\"`\n",
    "1. Push your changes: `git push`\n",
    "1. Check on github website that your solutions have been properly submitted.\n",
    "\n",
    "Before you leave the session today, make sure your GitHub Repo is setup. If you need to work further on your lab, navigate jupyter to the copy of the lab you just submitted and work there. Once done, repeat the commit and push commands to submit your updated solution. Note that lab 2 is due by midnight Monday 9/8/2024.\n"
   ]
  },
  {
   "cell_type": "markdown",
   "metadata": {},
   "source": [
    "### Uniform Distribution\n",
    "Lets start with generating some fake random data. You can get a random number between 0 and 1 using the python random module as follow:"
   ]
  },
  {
   "cell_type": "code",
   "execution_count": 59,
   "metadata": {},
   "outputs": [
    {
     "name": "stdout",
     "output_type": "stream",
     "text": [
      "The Value of x is 0.6958508494172889\n"
     ]
    }
   ],
   "source": [
    "import random\n",
    "x=random.random()\n",
    "print(\"The Value of x is\", x)"
   ]
  },
  {
   "cell_type": "markdown",
   "metadata": {},
   "source": [
    "Everytime you call random, you will get a new number.\n",
    "\n",
    "*Exercise 1:* Using random, write a function `generate_uniform(N, mymin, mymax)`, that returns a python list containing N random numbers between specified minimum and maximum value. Note that you may want to quickly work out on paper how to turn numbers between 0 and 1 to between other values. "
   ]
  },
  {
   "cell_type": "code",
   "execution_count": 61,
   "metadata": {},
   "outputs": [
    {
     "name": "stdout",
     "output_type": "stream",
     "text": [
      "Generated random numbers: [2.971890835553666, 5.5311681935089645, 2.062218634472937, 6.039596793681282, 2.6441802735069313, 5.5554453283649154, 3.916224970067898, 6.470457765840844, 6.235969858030516, 4.383887746521131]\n"
     ]
    }
   ],
   "source": [
    "import random\n",
    "\n",
    "def generate_uniform(N, x_min, x_max):\n",
    "    out = []\n",
    "    ### BEGIN SOLUTION\n",
    "    for _ in range(N):\n",
    "        # Generate a random number between x_min and x_max\n",
    "        random_number = random.uniform(x_min, x_max)\n",
    "        out.append(random_number)\n",
    "    ### END SOLUTION\n",
    "    return out\n",
    "\n",
    "# Example usage\n",
    "N = 10  # Number of random values to generate\n",
    "x_min = 1  # Minimum value\n",
    "x_max = 10  # Maximum value\n",
    "\n",
    "random_numbers = generate_uniform(N, x_min, x_max)\n",
    "print(\"Generated random numbers:\", random_numbers)"
   ]
  },
  {
   "cell_type": "code",
   "execution_count": 62,
   "metadata": {},
   "outputs": [
    {
     "name": "stdout",
     "output_type": "stream",
     "text": [
      "Data Type: <class 'list'>\n",
      "Data Length: 1000\n",
      "Type of Data Contents: <class 'float'>\n",
      "Data Minimum: -9.980593617159098\n",
      "Data Maximum: 9.987321184578121\n"
     ]
    }
   ],
   "source": [
    "# Test your solution here\n",
    "data=generate_uniform(1000,-10,10)\n",
    "print (\"Data Type:\", type(data))\n",
    "print (\"Data Length:\", len(data))\n",
    "if len(data)>0: \n",
    "    print (\"Type of Data Contents:\", type(data[0]))\n",
    "    print (\"Data Minimum:\", min(data))\n",
    "    print (\"Data Maximum:\", max(data))"
   ]
  },
  {
   "cell_type": "markdown",
   "metadata": {},
   "source": [
    "*Exercise 2a:* \n",
    "Write a function that computes the mean of values in a list. Recall the equation for the mean of a random variable $\\bf{x}$ computed on a data set of $n$ values $\\{ x_i \\} = \\{x_1, x_2, ..., x_n\\}$  is ${\\bf\\bar{x}} = \\frac{1}{n} \\sum_i^n x_i$."
   ]
  },
  {
   "cell_type": "code",
   "execution_count": 64,
   "metadata": {},
   "outputs": [
    {
     "name": "stdout",
     "output_type": "stream",
     "text": [
      "Mean of the data: 3.0\n"
     ]
    }
   ],
   "source": [
    "def mean(Data):\n",
    "    m = 0.0\n",
    "    \n",
    "    ### BEGIN SOLUTION\n",
    "    # Check if the list is empty to avoid division by zero\n",
    "    n = len(Data)\n",
    "    if n > 0:\n",
    "        m = sum(Data) / n  # Calculate the mean\n",
    "    ### END SOLUTION\n",
    "    \n",
    "    return m\n",
    "\n",
    "# Example usage\n",
    "data = [1, 2, 3, 4, 5]\n",
    "mean_value = mean(data)\n",
    "print(\"Mean of the data:\", mean_value)"
   ]
  },
  {
   "cell_type": "code",
   "execution_count": 65,
   "metadata": {},
   "outputs": [
    {
     "name": "stdout",
     "output_type": "stream",
     "text": [
      "Mean of Data: 3.0\n"
     ]
    }
   ],
   "source": [
    "def mean(Data):\n",
    "    m = 0.0\n",
    "    \n",
    "    ### BEGIN SOLUTION\n",
    "    # Check if the list is empty to avoid division by zero\n",
    "    n = len(Data)\n",
    "    if n > 0:\n",
    "        m = sum(Data) / n  # Calculate the mean\n",
    "    ### END SOLUTION\n",
    "    \n",
    "    return m\n",
    "\n",
    "# Example data\n",
    "data = [1, 2, 3, 4, 5]\n",
    "\n",
    "# Test the mean function\n",
    "print(\"Mean of Data:\", mean(data))"
   ]
  },
  {
   "cell_type": "markdown",
   "metadata": {},
   "source": [
    "*Exercise 2b:* \n",
    "Write a function that computes the variance of values in a list. Recall the equation for the variance of a random variable $\\bf{x}$ computed on a data set of $n$ values $\\{ x_i \\} = \\{x_1, x_2, ..., x_n\\}$  is ${\\bf\\langle x \\rangle} = \\frac{1}{n} \\sum_i^n (x_i - {\\bf\\bar{x}})$."
   ]
  },
  {
   "cell_type": "code",
   "execution_count": 67,
   "metadata": {},
   "outputs": [
    {
     "name": "stdout",
     "output_type": "stream",
     "text": [
      "Variance of Data: 2.0\n"
     ]
    }
   ],
   "source": [
    "def variance(Data):\n",
    "    m = 0.0\n",
    "    \n",
    "    ### BEGIN SOLUTION\n",
    "    n = len(Data)\n",
    "    if n > 0:\n",
    "        # Calculate the mean\n",
    "        mean_value = sum(Data) / n\n",
    "        \n",
    "        # Calculate the variance\n",
    "        m = sum((x - mean_value) ** 2 for x in Data) / n\n",
    "    ### END SOLUTION\n",
    "    \n",
    "    return m\n",
    "\n",
    "# Example usage\n",
    "data = [1, 2, 3, 4, 5]\n",
    "variance_value = variance(data)\n",
    "print(\"Variance of Data:\", variance_value)"
   ]
  },
  {
   "cell_type": "code",
   "execution_count": 68,
   "metadata": {},
   "outputs": [
    {
     "name": "stdout",
     "output_type": "stream",
     "text": [
      "Variance of Data: 2.0\n"
     ]
    }
   ],
   "source": [
    "def variance(Data):\n",
    "    m = 0.0\n",
    "    \n",
    "    ### BEGIN SOLUTION\n",
    "    n = len(Data)\n",
    "    if n > 0:\n",
    "        # Calculate the mean\n",
    "        mean_value = sum(Data) / n\n",
    "        \n",
    "        # Calculate the variance\n",
    "        m = sum((x - mean_value) ** 2 for x in Data) / n\n",
    "    ### END SOLUTION\n",
    "    \n",
    "    return m\n",
    "\n",
    "# Example data\n",
    "data = [1, 2, 3, 4, 5]\n",
    "\n",
    "# Test the variance function\n",
    "print(\"Variance of Data:\", variance(data))"
   ]
  },
  {
   "cell_type": "markdown",
   "metadata": {},
   "source": [
    "## Histogramming"
   ]
  },
  {
   "cell_type": "markdown",
   "metadata": {},
   "source": [
    "*Exercise 3:* Write a function that bins the data so that you can create a histogram. An example of how to implement histogramming is the following logic:\n",
    "\n",
    "* User inputs a list of values `x` and optionally `n_bins` which defaults to 10.\n",
    "* If not supplied, find the minimum and maximum (`x_min`,`x_max`) of the values in x.\n",
    "* Determine the bin size (`bin_size`) by dividing the range of the function by the number of bins.\n",
    "* Create an empty list of zeros of size `n_bins`, call it `hist`.\n",
    "* Loop over the values in `x`\n",
    "    * Loop over the values in `hist` with index `i`:\n",
    "        * If x is between `x_min+i*bin_size` and `x_min+(i+1)*bin_size`, increment `hist[i].` \n",
    "        * For efficiency, try to use continue to goto the next bin and data point.\n",
    "* Return `hist` and the list corresponding of the bin edges (i.e. of `x_min+i*bin_size`).    "
   ]
  },
  {
   "cell_type": "code",
   "execution_count": 71,
   "metadata": {},
   "outputs": [
    {
     "name": "stdout",
     "output_type": "stream",
     "text": [
      "Histogram values: [2, 3, 2, 1, 1]\n",
      "Bin edges: [1.1, 2.66, 4.220000000000001, 5.779999999999999, 7.34, 8.9]\n"
     ]
    }
   ],
   "source": [
    "def histogram(x, n_bins=10, x_min=None, x_max=None):\n",
    "    ### BEGIN SOLUTION\n",
    "    # Determine x_min and x_max if not provided\n",
    "    if x_min is None:\n",
    "        x_min = min(x)\n",
    "    if x_max is None:\n",
    "        x_max = max(x)\n",
    "    \n",
    "    # Calculate the bin size\n",
    "    bin_size = (x_max - x_min) / n_bins\n",
    "    \n",
    "    # Create a list of zeros for the histogram\n",
    "    hist = [0] * n_bins\n",
    "    \n",
    "    # Loop over the values in x\n",
    "    for value in x:\n",
    "        # Determine which bin the value belongs to\n",
    "        for i in range(n_bins):\n",
    "            if x_min + i * bin_size <= value < x_min + (i + 1) * bin_size:\n",
    "                hist[i] += 1\n",
    "                break  # Exit the loop once the bin is found\n",
    "\n",
    "    # Create the bin edges\n",
    "    bin_edges = [x_min + i * bin_size for i in range(n_bins + 1)]\n",
    "    ### END SOLUTION\n",
    "\n",
    "    return hist, bin_edges\n",
    "\n",
    "# Example usage\n",
    "data = [1.1, 2.5, 2.9, 3.3, 4.0, 4.5, 5.6, 6.7, 7.8, 8.9]\n",
    "histogram_values, edges = histogram(data, n_bins=5)\n",
    "print(\"Histogram values:\", histogram_values)\n",
    "print(\"Bin edges:\", edges)"
   ]
  },
  {
   "cell_type": "code",
   "execution_count": 72,
   "metadata": {},
   "outputs": [
    {
     "name": "stdout",
     "output_type": "stream",
     "text": [
      "Histogram values: [1, 0, 0, 0, 0, 0, 0, 0, 0, 0, 0, 0, 0, 0, 0, 0, 0, 1, 0, 0, 0, 0, 0, 1, 0, 0, 0, 0, 1, 0, 0, 0, 0, 0, 0, 0, 0, 1, 0, 0, 0, 0, 0, 1, 0, 0, 0, 0, 0, 0, 0, 0, 0, 0, 0, 0, 0, 1, 0, 0, 0, 0, 0, 0, 0, 0, 0, 0, 0, 0, 0, 1, 0, 0, 0, 0, 0, 0, 0, 0, 0, 0, 0, 0, 0, 1, 0, 0, 0, 0, 0, 0, 0, 0, 0, 0, 0, 0, 0, 1]\n",
      "Bin edges: [1.1, 1.1780000000000002, 1.2560000000000002, 1.334, 1.4120000000000001, 1.4900000000000002, 1.568, 1.6460000000000001, 1.7240000000000002, 1.8020000000000003, 1.8800000000000003, 1.9580000000000002, 2.0360000000000005, 2.1140000000000003, 2.192, 2.2700000000000005, 2.3480000000000003, 2.426, 2.5040000000000004, 2.5820000000000003, 2.66, 2.7380000000000004, 2.8160000000000003, 2.894, 2.9720000000000004, 3.0500000000000007, 3.1280000000000006, 3.2060000000000004, 3.2840000000000003, 3.3620000000000005, 3.4400000000000004, 3.5180000000000007, 3.5960000000000005, 3.6740000000000004, 3.7520000000000007, 3.8300000000000005, 3.908000000000001, 3.9860000000000007, 4.064, 4.142000000000001, 4.220000000000001, 4.298, 4.376000000000001, 4.454000000000001, 4.532, 4.610000000000001, 4.688000000000001, 4.766000000000001, 4.844000000000001, 4.922000000000001, 5.000000000000001, 5.078000000000001, 5.156000000000001, 5.234, 5.312000000000001, 5.390000000000001, 5.468, 5.546000000000001, 5.6240000000000006, 5.702000000000002, 5.780000000000001, 5.8580000000000005, 5.936000000000002, 6.014000000000001, 6.0920000000000005, 6.170000000000002, 6.248000000000001, 6.3260000000000005, 6.404000000000002, 6.482000000000001, 6.5600000000000005, 6.638000000000002, 6.716000000000001, 6.7940000000000005, 6.872000000000002, 6.950000000000001, 7.0280000000000005, 7.106000000000002, 7.184000000000001, 7.2620000000000005, 7.340000000000002, 7.418000000000001, 7.496, 7.574000000000002, 7.652000000000001, 7.73, 7.808000000000002, 7.886000000000001, 7.964, 8.042000000000002, 8.120000000000001, 8.198000000000002, 8.276000000000002, 8.354000000000001, 8.432000000000002, 8.510000000000002, 8.588000000000001, 8.666000000000002, 8.744000000000002, 8.822000000000001, 8.900000000000002]\n"
     ]
    }
   ],
   "source": [
    "def histogram(x, n_bins=10, x_min=None, x_max=None):\n",
    "    ### BEGIN SOLUTION\n",
    "    # Determine x_min and x_max if not provided\n",
    "    if x_min is None:\n",
    "        x_min = min(x)\n",
    "    if x_max is None:\n",
    "        x_max = max(x)\n",
    "    \n",
    "    # Calculate the bin size\n",
    "    bin_size = (x_max - x_min) / n_bins\n",
    "    \n",
    "    # Create a list of zeros for the histogram\n",
    "    hist = [0] * n_bins\n",
    "    \n",
    "    # Loop over the values in x\n",
    "    for value in x:\n",
    "        # Determine which bin the value belongs to\n",
    "        for i in range(n_bins):\n",
    "            if x_min + i * bin_size <= value < x_min + (i + 1) * bin_size:\n",
    "                hist[i] += 1\n",
    "                break  # Exit the loop once the bin is found\n",
    "\n",
    "    # Create the bin edges\n",
    "    bin_edges = [x_min + i * bin_size for i in range(n_bins + 1)]\n",
    "    ### END SOLUTION\n",
    "\n",
    "    return hist, bin_edges\n",
    "\n",
    "# Example data\n",
    "data = [1.1, 2.5, 2.9, 3.3, 4.0, 4.5, 5.6, 6.7, 7.8, 8.9]\n",
    "\n",
    "# Test the histogram function with 100 bins\n",
    "h, b = histogram(data, n_bins=100)\n",
    "print(\"Histogram values:\", h)\n",
    "print(\"Bin edges:\", b)"
   ]
  },
  {
   "cell_type": "markdown",
   "metadata": {},
   "source": [
    "*Exercise 4:* Write a function that uses the histogram function in the previous exercise to create a text-based \"graph\". For example the output could look like the following:\n",
    "```\n",
    "[  0,  1] : ######\n",
    "[  1,  2] : #####\n",
    "[  2,  3] : ######\n",
    "[  3,  4] : ####\n",
    "[  4,  5] : ####\n",
    "[  5,  6] : ######\n",
    "[  6,  7] : #####\n",
    "[  7,  8] : ######\n",
    "[  8,  9] : ####\n",
    "[  9, 10] : #####\n",
    "```\n",
    "\n",
    "Where each line corresponds to a bin and the number of `#`'s are proportional to the value of the data in the bin. "
   ]
  },
  {
   "cell_type": "code",
   "execution_count": 74,
   "metadata": {},
   "outputs": [
    {
     "name": "stdout",
     "output_type": "stream",
     "text": [
      "[1, 1] : ##########\n",
      "[1, 2] : ##########\n",
      "[2, 3] : ####################\n",
      "[3, 4] : ##########\n",
      "[4, 5] : ##########\n",
      "[5, 5] : ##########\n",
      "[5, 6] : \n",
      "[6, 7] : ##########\n",
      "[7, 8] : ##########\n",
      "[8, 8] : \n"
     ]
    }
   ],
   "source": [
    "def draw_histogram(x, n_bins, x_min=None, x_max=None, character=\"#\", max_character_per_line=20):\n",
    "    ### BEGIN SOLUTION\n",
    "    # Use the histogram function to get the histogram values and bin edges\n",
    "    hist, bin_edges = histogram(x, n_bins, x_min, x_max)\n",
    "\n",
    "    # Find the maximum count in the histogram for scaling\n",
    "    max_count = max(hist) if hist else 0\n",
    "\n",
    "    # Print the histogram\n",
    "    for i in range(n_bins):\n",
    "        # Calculate the number of characters to print\n",
    "        if max_count > 0:\n",
    "            num_characters = int((hist[i] / max_count) * max_character_per_line)\n",
    "        else:\n",
    "            num_characters = 0\n",
    "        \n",
    "        # Format bin range and corresponding characters\n",
    "        bin_range = f\"[{int(bin_edges[i])}, {int(bin_edges[i + 1])}]\"\n",
    "        print(f\"{bin_range} : {character * num_characters}\")\n",
    "    ### END SOLUTION\n",
    "\n",
    "# Example usage\n",
    "data = [1.1, 2.5, 2.9, 3.3, 4.0, 4.5, 5.6, 6.7, 7.8, 8.9]\n",
    "draw_histogram(data, n_bins=10)"
   ]
  },
  {
   "cell_type": "code",
   "execution_count": 75,
   "metadata": {},
   "outputs": [
    {
     "name": "stdout",
     "output_type": "stream",
     "text": [
      "[1, 1] : ####################\n",
      "[1, 1] : \n",
      "[1, 2] : \n",
      "[2, 2] : ####################\n",
      "[2, 3] : ####################\n",
      "[3, 3] : ####################\n",
      "[3, 3] : \n",
      "[3, 4] : ####################\n",
      "[4, 4] : ####################\n",
      "[4, 5] : \n",
      "[5, 5] : \n",
      "[5, 5] : ####################\n",
      "[5, 6] : \n",
      "[6, 6] : \n",
      "[6, 6] : ####################\n",
      "[6, 7] : \n",
      "[7, 7] : \n",
      "[7, 8] : ####################\n",
      "[8, 8] : \n",
      "[8, 8] : \n"
     ]
    }
   ],
   "source": [
    "def histogram(x, n_bins=10, x_min=None, x_max=None):\n",
    "    # Determine x_min and x_max if not provided\n",
    "    if x_min is None:\n",
    "        x_min = min(x)\n",
    "    if x_max is None:\n",
    "        x_max = max(x)\n",
    "    \n",
    "    # Calculate the bin size\n",
    "    bin_size = (x_max - x_min) / n_bins\n",
    "    \n",
    "    # Create a list of zeros for the histogram\n",
    "    hist = [0] * n_bins\n",
    "    \n",
    "    # Loop over the values in x\n",
    "    for value in x:\n",
    "        # Determine which bin the value belongs to\n",
    "        for i in range(n_bins):\n",
    "            if x_min + i * bin_size <= value < x_min + (i + 1) * bin_size:\n",
    "                hist[i] += 1\n",
    "                break  # Exit the loop once the bin is found\n",
    "\n",
    "    # Create the bin edges\n",
    "    bin_edges = [x_min + i * bin_size for i in range(n_bins + 1)]\n",
    "    \n",
    "    return hist, bin_edges\n",
    "\n",
    "def draw_histogram(x, n_bins, x_min=None, x_max=None, character=\"#\", max_character_per_line=20):\n",
    "    # Use the histogram function to get the histogram values and bin edges\n",
    "    hist, bin_edges = histogram(x, n_bins, x_min, x_max)\n",
    "\n",
    "    # Find the maximum count in the histogram for scaling\n",
    "    max_count = max(hist) if hist else 0\n",
    "\n",
    "    # Print the histogram\n",
    "    for i in range(n_bins):\n",
    "        # Calculate the number of characters to print\n",
    "        if max_count > 0:\n",
    "            num_characters = int((hist[i] / max_count) * max_character_per_line)\n",
    "        else:\n",
    "            num_characters = 0\n",
    "        \n",
    "        # Format bin range and corresponding characters\n",
    "        bin_range = f\"[{int(bin_edges[i])}, {int(bin_edges[i + 1])}]\"\n",
    "        print(f\"{bin_range} : {character * num_characters}\")\n",
    "\n",
    "# Example data\n",
    "data = [1.1, 2.5, 2.9, 3.3, 4.0, 4.5, 5.6, 6.7, 7.8, 8.9]\n",
    "\n",
    "# Test the histogram function with 20 bins\n",
    "draw_histogram(data, n_bins=20)"
   ]
  },
  {
   "cell_type": "markdown",
   "metadata": {},
   "source": [
    "## Functional Programming\n",
    "\n",
    "*Exercise 5:* Write a function the applies a booling function (that returns true/false) to every element in data, and return a list of indices of elements where the result was true. Use this function to find the indices of entries greater than 0.5. "
   ]
  },
  {
   "cell_type": "code",
   "execution_count": 77,
   "metadata": {},
   "outputs": [
    {
     "name": "stdout",
     "output_type": "stream",
     "text": [
      "Indices of entries greater than 0.5: [1, 2, 4]\n"
     ]
    }
   ],
   "source": [
    "def where(mylist, myfunc):\n",
    "    out = []\n",
    "    \n",
    "    # Iterate through the list with indices\n",
    "    for index, value in enumerate(mylist):\n",
    "        # Apply the boolean function\n",
    "        if myfunc(value):\n",
    "            out.append(index)\n",
    "    \n",
    "    return out\n",
    "\n",
    "# Example usage\n",
    "# Define a boolean function that checks if a value is greater than 0.5\n",
    "def is_greater_than_half(x):\n",
    "    return x > 0.5\n",
    "\n",
    "# Sample data\n",
    "data = [0.1, 0.6, 0.7, 0.3, 0.9, 0.2]\n",
    "\n",
    "# Find indices where entries are greater than 0.5\n",
    "indices = where(data, is_greater_than_half)\n",
    "\n",
    "print(\"Indices of entries greater than 0.5:\", indices)"
   ]
  },
  {
   "cell_type": "code",
   "execution_count": 78,
   "metadata": {},
   "outputs": [
    {
     "name": "stdout",
     "output_type": "stream",
     "text": [
      "Indices of entries greater than 0.5: [1, 2, 4]\n"
     ]
    }
   ],
   "source": [
    "def where(mylist, myfunc):\n",
    "    out = []\n",
    "    \n",
    "    # Iterate through the list with indices\n",
    "    for index, value in enumerate(mylist):\n",
    "        # Apply the boolean function\n",
    "        if myfunc(value):\n",
    "            out.append(index)\n",
    "    \n",
    "    return out\n",
    "\n",
    "# Example usage\n",
    "# Define a boolean function that checks if a value is greater than 0.5\n",
    "def is_greater_than_half(x):\n",
    "    return x > 0.5\n",
    "\n",
    "# Sample data\n",
    "data = [0.1, 0.6, 0.7, 0.3, 0.9, 0.2]\n",
    "\n",
    "# Find indices where entries are greater than 0.5\n",
    "indices = where(data, is_greater_than_half)\n",
    "\n",
    "print(\"Indices of entries greater than 0.5:\", indices)"
   ]
  },
  {
   "cell_type": "markdown",
   "metadata": {},
   "source": [
    "*Exercise 6:* The `inrange(mymin,mymax)` function below returns a function that tests if it's input is between the specified values. Write corresponding functions that test:\n",
    "* Even\n",
    "* Odd\n",
    "* Greater than\n",
    "* Less than\n",
    "* Equal\n",
    "* Divisible by"
   ]
  },
  {
   "cell_type": "code",
   "execution_count": 80,
   "metadata": {},
   "outputs": [
    {
     "name": "stdout",
     "output_type": "stream",
     "text": [
      "Even results: [False, True, False, True, False, True, False, True, False, True, True, False]\n",
      "Odd results: [True, False, True, False, True, False, True, False, True, False, False, True]\n",
      "Greater than 5 results: [False, False, False, False, False, True, True, True, True, True, True, True]\n",
      "Less than 10 results: [True, True, True, True, True, True, True, True, True, False, False, False]\n",
      "Equal to 3 results: [False, False, True, False, False, False, False, False, False, False, False, False]\n",
      "Divisible by 4 results: [False, False, False, True, False, False, False, True, False, False, True, False]\n"
     ]
    }
   ],
   "source": [
    "def inrange(mymin, mymax):\n",
    "    \"\"\"Returns a function that tests if its input is between mymin and mymax.\"\"\"\n",
    "    def test(x):\n",
    "        return mymin <= x <= mymax\n",
    "    return test\n",
    "\n",
    "def is_even():\n",
    "    \"\"\"Returns a function that tests if a number is even.\"\"\"\n",
    "    return lambda x: x % 2 == 0\n",
    "\n",
    "def is_odd():\n",
    "    \"\"\"Returns a function that tests if a number is odd.\"\"\"\n",
    "    return lambda x: x % 2 != 0\n",
    "\n",
    "def greater_than(value):\n",
    "    \"\"\"Returns a function that tests if a number is greater than the specified value.\"\"\"\n",
    "    return lambda x: x > value\n",
    "\n",
    "def less_than(value):\n",
    "    \"\"\"Returns a function that tests if a number is less than the specified value.\"\"\"\n",
    "    return lambda x: x < value\n",
    "\n",
    "def equal_to(value):\n",
    "    \"\"\"Returns a function that tests if a number is equal to the specified value.\"\"\"\n",
    "    return lambda x: x == value\n",
    "\n",
    "def divisible_by(value):\n",
    "    \"\"\"Returns a function that tests if a number is divisible by the specified value.\"\"\"\n",
    "    return lambda x: x % value == 0\n",
    "\n",
    "# Example usage\n",
    "test_even = is_even()\n",
    "test_odd = is_odd()\n",
    "test_greater_than = greater_than(5)\n",
    "test_less_than = less_than(10)\n",
    "test_equal_to = equal_to(3)\n",
    "test_divisible_by = divisible_by(4)\n",
    "\n",
    "# Test values\n",
    "test_values = [1, 2, 3, 4, 5, 6, 7, 8, 9, 10, 12, 15]\n",
    "\n",
    "# Apply tests\n",
    "even_results = [test_even(x) for x in test_values]\n",
    "odd_results = [test_odd(x) for x in test_values]\n",
    "greater_than_results = [test_greater_than(x) for x in test_values]\n",
    "less_than_results = [test_less_than(x) for x in test_values]\n",
    "equal_to_results = [test_equal_to(x) for x in test_values]\n",
    "divisible_by_results = [test_divisible_by(x) for x in test_values]\n",
    "\n",
    "# Print results\n",
    "print(\"Even results:\", even_results)\n",
    "print(\"Odd results:\", odd_results)\n",
    "print(\"Greater than 5 results:\", greater_than_results)\n",
    "print(\"Less than 10 results:\", less_than_results)\n",
    "print(\"Equal to 3 results:\", equal_to_results)\n",
    "print(\"Divisible by 4 results:\", divisible_by_results)"
   ]
  },
  {
   "cell_type": "code",
   "execution_count": 81,
   "metadata": {},
   "outputs": [
    {
     "name": "stdout",
     "output_type": "stream",
     "text": [
      "Even results: [False, True, False, True, False, True, False, True, False, True, True, False]\n",
      "Odd results: [True, False, True, False, True, False, True, False, True, False, False, True]\n",
      "Greater than 5 results: [False, False, False, False, False, True, True, True, True, True, True, True]\n",
      "Less than 10 results: [True, True, True, True, True, True, True, True, True, False, False, False]\n",
      "Equal to 3 results: [False, False, True, False, False, False, False, False, False, False, False, False]\n",
      "Divisible by 4 results: [False, False, False, True, False, False, False, True, False, False, True, False]\n"
     ]
    }
   ],
   "source": [
    "def inrange(mymin, mymax):\n",
    "    \"\"\"Returns a function that tests if its input is between mymin and mymax.\"\"\"\n",
    "    def test(x):\n",
    "        return mymin <= x <= mymax\n",
    "    return test\n",
    "\n",
    "def is_even():\n",
    "    \"\"\"Returns a function that tests if a number is even.\"\"\"\n",
    "    return lambda x: x % 2 == 0\n",
    "\n",
    "def is_odd():\n",
    "    \"\"\"Returns a function that tests if a number is odd.\"\"\"\n",
    "    return lambda x: x % 2 != 0\n",
    "\n",
    "def greater_than(value):\n",
    "    \"\"\"Returns a function that tests if a number is greater than the specified value.\"\"\"\n",
    "    return lambda x: x > value\n",
    "\n",
    "def less_than(value):\n",
    "    \"\"\"Returns a function that tests if a number is less than the specified value.\"\"\"\n",
    "    return lambda x: x < value\n",
    "\n",
    "def equal_to(value):\n",
    "    \"\"\"Returns a function that tests if a number is equal to the specified value.\"\"\"\n",
    "    return lambda x: x == value\n",
    "\n",
    "def divisible_by(value):\n",
    "    \"\"\"Returns a function that tests if a number is divisible by the specified value.\"\"\"\n",
    "    return lambda x: x % value == 0\n",
    "\n",
    "# Example usage\n",
    "test_even = is_even()\n",
    "test_odd = is_odd()\n",
    "test_greater_than = greater_than(5)\n",
    "test_less_than = less_than(10)\n",
    "test_equal_to = equal_to(3)\n",
    "test_divisible_by = divisible_by(4)\n",
    "\n",
    "# Test values\n",
    "test_values = [1, 2, 3, 4, 5, 6, 7, 8, 9, 10, 12, 15]\n",
    "\n",
    "# Apply tests\n",
    "even_results = [test_even(x) for x in test_values]\n",
    "odd_results = [test_odd(x) for x in test_values]\n",
    "greater_than_results = [test_greater_than(x) for x in test_values]\n",
    "less_than_results = [test_less_than(x) for x in test_values]\n",
    "equal_to_results = [test_equal_to(x) for x in test_values]\n",
    "divisible_by_results = [test_divisible_by(x) for x in test_values]\n",
    "\n",
    "# Print results\n",
    "print(\"Even results:\", even_results)\n",
    "print(\"Odd results:\", odd_results)\n",
    "print(\"Greater than 5 results:\", greater_than_results)\n",
    "print(\"Less than 10 results:\", less_than_results)\n",
    "print(\"Equal to 3 results:\", equal_to_results)\n",
    "print(\"Divisible by 4 results:\", divisible_by_results)"
   ]
  },
  {
   "cell_type": "code",
   "execution_count": 82,
   "metadata": {},
   "outputs": [
    {
     "name": "stdout",
     "output_type": "stream",
     "text": [
      "Even results: [False, True, False, True, False, True, False, True, False, True, True, False]\n",
      "Odd results: [True, False, True, False, True, False, True, False, True, False, False, True]\n",
      "Greater than 5 results: [False, False, False, False, False, True, True, True, True, True, True, True]\n",
      "Less than 10 results: [True, True, True, True, True, True, True, True, True, False, False, False]\n",
      "Equal to 3 results: [False, False, True, False, False, False, False, False, False, False, False, False]\n",
      "Divisible by 4 results: [False, False, False, True, False, False, False, True, False, False, True, False]\n"
     ]
    }
   ],
   "source": [
    "def inrange(mymin, mymax):\n",
    "    \"\"\"Returns a function that tests if its input is between mymin and mymax.\"\"\"\n",
    "    def test(x):\n",
    "        return mymin <= x <= mymax\n",
    "    return test\n",
    "\n",
    "def is_even():\n",
    "    \"\"\"Returns a function that tests if a number is even.\"\"\"\n",
    "    return lambda x: x % 2 == 0\n",
    "\n",
    "def is_odd():\n",
    "    \"\"\"Returns a function that tests if a number is odd.\"\"\"\n",
    "    return lambda x: x % 2 != 0\n",
    "\n",
    "def greater_than(value):\n",
    "    \"\"\"Returns a function that tests if a number is greater than the specified value.\"\"\"\n",
    "    return lambda x: x > value\n",
    "\n",
    "def less_than(value):\n",
    "    \"\"\"Returns a function that tests if a number is less than the specified value.\"\"\"\n",
    "    return lambda x: x < value\n",
    "\n",
    "def equal_to(value):\n",
    "    \"\"\"Returns a function that tests if a number is equal to the specified value.\"\"\"\n",
    "    return lambda x: x == value\n",
    "\n",
    "def divisible_by(value):\n",
    "    \"\"\"Returns a function that tests if a number is divisible by the specified value.\"\"\"\n",
    "    return lambda x: x % value == 0\n",
    "\n",
    "# Example usage\n",
    "test_even = is_even()\n",
    "test_odd = is_odd()\n",
    "test_greater_than = greater_than(5)\n",
    "test_less_than = less_than(10)\n",
    "test_equal_to = equal_to(3)\n",
    "test_divisible_by = divisible_by(4)\n",
    "\n",
    "# Test values\n",
    "test_values = [1, 2, 3, 4, 5, 6, 7, 8, 9, 10, 12, 15]\n",
    "\n",
    "# Apply tests\n",
    "even_results = [test_even(x) for x in test_values]\n",
    "odd_results = [test_odd(x) for x in test_values]\n",
    "greater_than_results = [test_greater_than(x) for x in test_values]\n",
    "less_than_results = [test_less_than(x) for x in test_values]\n",
    "equal_to_results = [test_equal_to(x) for x in test_values]\n",
    "divisible_by_results = [test_divisible_by(x) for x in test_values]\n",
    "\n",
    "# Print results\n",
    "print(\"Even results:\", even_results)\n",
    "print(\"Odd results:\", odd_results)\n",
    "print(\"Greater than 5 results:\", greater_than_results)\n",
    "print(\"Less than 10 results:\", less_than_results)\n",
    "print(\"Equal to 3 results:\", equal_to_results)\n",
    "print(\"Divisible by 4 results:\", divisible_by_results)"
   ]
  },
  {
   "cell_type": "markdown",
   "metadata": {},
   "source": [
    "*Exercise 7:* Repeat the previous exercise using `lambda` and the built-in python functions sum and map instead of your solution above. "
   ]
  },
  {
   "cell_type": "code",
   "execution_count": 84,
   "metadata": {},
   "outputs": [
    {
     "name": "stdout",
     "output_type": "stream",
     "text": [
      "Count of even numbers: 6\n",
      "Count of odd numbers: 6\n",
      "Count of numbers greater than 5: 7\n",
      "Count of numbers less than 10: 9\n",
      "Count of numbers equal to 3: 1\n",
      "Count of numbers divisible by 4: 3\n"
     ]
    }
   ],
   "source": [
    "def is_even(x):\n",
    "    return x % 2 == 0\n",
    "\n",
    "def is_odd(x):\n",
    "    return x % 2 != 0\n",
    "\n",
    "def greater_than(value):\n",
    "    return lambda x: x > value\n",
    "\n",
    "def less_than(value):\n",
    "    return lambda x: x < value\n",
    "\n",
    "def equal_to(value):\n",
    "    return lambda x: x == value\n",
    "\n",
    "def divisible_by(value):\n",
    "    return lambda x: x % value == 0\n",
    "\n",
    "# Test values\n",
    "test_values = [1, 2, 3, 4, 5, 6, 7, 8, 9, 10, 12, 15]\n",
    "\n",
    "# Using lambda and map to apply the functions and sum the results\n",
    "even_count = sum(map(lambda x: 1 if is_even(x) else 0, test_values))\n",
    "odd_count = sum(map(lambda x: 1 if is_odd(x) else 0, test_values))\n",
    "greater_than_5_count = sum(map(greater_than(5), test_values))\n",
    "less_than_10_count = sum(map(less_than(10), test_values))\n",
    "equal_to_3_count = sum(map(equal_to(3), test_values))\n",
    "divisible_by_4_count = sum(map(divisible_by(4), test_values))\n",
    "\n",
    "# Print results\n",
    "print(\"Count of even numbers:\", even_count)\n",
    "print(\"Count of odd numbers:\", odd_count)\n",
    "print(\"Count of numbers greater than 5:\", greater_than_5_count)\n",
    "print(\"Count of numbers less than 10:\", less_than_10_count)\n",
    "print(\"Count of numbers equal to 3:\", equal_to_3_count)\n",
    "print(\"Count of numbers divisible by 4:\", divisible_by_4_count)"
   ]
  },
  {
   "cell_type": "markdown",
   "metadata": {},
   "source": [
    "## Monte Carlo\n",
    "\n",
    "*Exercise 7:* Write a \"generator\" function called `generate_function(func,x_min,x_max,N)`, that instead of generating a flat distribution, generates a distribution with functional form coded in `func`. Note that `func` will always be > 0.  \n",
    "\n",
    "Use the test function below and your histogramming functions above to demonstrate that your generator is working properly.\n",
    "\n",
    "Hint: A simple, but slow, solution is to a draw random number `test_x` within the specified range and another number `p` between the `min` and `max` of the function (which you will have to determine). If `p<=function(test_x)`, then place `test_x` on the output. If not, repeat the process, drawing two new numbers. Repeat until you have the specified number of generated numbers, `N`. For this problem, it's OK to determine the `min` and `max` by numerically sampling the function.  "
   ]
  },
  {
   "cell_type": "code",
   "execution_count": 86,
   "metadata": {},
   "outputs": [
    {
     "name": "stdout",
     "output_type": "stream",
     "text": [
      "Calculated Mean: 3.1271\n",
      "Calculated Variance: 2.9259\n"
     ]
    },
    {
     "data": {
      "image/png": "[encoded data removed]",
      "text/plain": [
       "<Figure size 1000x600 with 1 Axes>"
      ]
     },
     "metadata": {},
     "output_type": "display_data"
    }
   ],
   "source": [
    "import numpy as np\n",
    "import matplotlib.pyplot as plt\n",
    "\n",
    "def generate_function(func, x_min, x_max, N=1000):\n",
    "    out = []\n",
    "    \n",
    "    # Sample the function to find min and max values\n",
    "    x_samples = np.linspace(x_min, x_max, 1000)\n",
    "    y_samples = func(x_samples)\n",
    "    y_max = np.max(y_samples)\n",
    "    \n",
    "    while len(out) < N:\n",
    "        # Generate a random x in the specified range\n",
    "        test_x = np.random.uniform(x_min, x_max)\n",
    "        # Generate a random p in the range [0, y_max]\n",
    "        p = np.random.uniform(0, y_max)\n",
    "        \n",
    "        # Accept or reject the sample\n",
    "        if p <= func(test_x):\n",
    "            out.append(test_x)\n",
    "    \n",
    "    return out\n",
    "\n",
    "# Test function\n",
    "def test_function(x):\n",
    "    return np.sin(x) ** 2 + 0.1  # Ensure it's always > 0\n",
    "\n",
    "# Parameters\n",
    "x_min = 0\n",
    "x_max = 2 * np.pi\n",
    "N = 1000\n",
    "\n",
    "# Generate samples\n",
    "samples = generate_function(test_function, x_min, x_max, N)\n",
    "\n",
    "# Calculate mean and variance of the generated samples\n",
    "calculated_mean = np.mean(samples)\n",
    "calculated_variance = np.var(samples)\n",
    "\n",
    "# Print mean and variance\n",
    "print(f\"Calculated Mean: {calculated_mean:.4f}\")\n",
    "print(f\"Calculated Variance: {calculated_variance:.4f}\")\n",
    "\n",
    "# Plot histogram\n",
    "plt.figure(figsize=(10, 6))\n",
    "plt.hist(samples, bins=30, density=True, alpha=0.6, color='g')\n",
    "\n",
    "# Plot the test function for comparison\n",
    "x = np.linspace(x_min, x_max, 1000)\n",
    "plt.plot(x, test_function(x) / np.sum(test_function(x)), color='blue', lw=2)  # Normalize for comparison\n",
    "\n",
    "plt.title('Histogram of Samples Generated from Test Function')\n",
    "plt.xlabel('Value')\n",
    "plt.ylabel('Density')\n",
    "plt.grid()\n",
    "plt.show()"
   ]
  },
  {
   "cell_type": "code",
   "execution_count": 87,
   "metadata": {},
   "outputs": [
    {
     "name": "stdout",
     "output_type": "stream",
     "text": [
      "Calculated Mean: 1.1844\n",
      "Calculated Variance: 48.0301\n"
     ]
    },
    {
     "data": {
      "image/png": "[encoded data removed]",
      "text/plain": [
       "<Figure size 1000x600 with 1 Axes>"
      ]
     },
     "metadata": {},
     "output_type": "display_data"
    }
   ],
   "source": [
    "import numpy as np\n",
    "import matplotlib.pyplot as plt\n",
    "\n",
    "def generate_function(func, x_min, x_max, N=1000):\n",
    "    out = []\n",
    "    \n",
    "    # Sample the function to find the maximum value\n",
    "    x_samples = np.linspace(x_min, x_max, 1000)\n",
    "    y_samples = func(x_samples)\n",
    "    y_max = np.max(y_samples)\n",
    "    \n",
    "    while len(out) < N:\n",
    "        # Generate a random x in the specified range\n",
    "        test_x = np.random.uniform(x_min, x_max)\n",
    "        # Generate a random p in the range [0, y_max]\n",
    "        p = np.random.uniform(0, y_max)\n",
    "        \n",
    "        # Accept or reject the sample based on the function value\n",
    "        if p <= func(test_x):\n",
    "            out.append(test_x)\n",
    "    \n",
    "    return out\n",
    "\n",
    "# Test function\n",
    "def test_func(x, a=1, b=1):\n",
    "    return abs(a * x + b)\n",
    "\n",
    "# Parameters for the test\n",
    "x_min = -10\n",
    "x_max = 10\n",
    "N = 1000\n",
    "\n",
    "# Generate samples\n",
    "samples = generate_function(test_func, x_min, x_max, N)\n",
    "\n",
    "# Calculate mean and variance of the generated samples\n",
    "calculated_mean = np.mean(samples)\n",
    "calculated_variance = np.var(samples)\n",
    "\n",
    "# Print mean and variance\n",
    "print(f\"Calculated Mean: {calculated_mean:.4f}\")\n",
    "print(f\"Calculated Variance: {calculated_variance:.4f}\")\n",
    "\n",
    "# Plot histogram\n",
    "plt.figure(figsize=(10, 6))\n",
    "plt.hist(samples, bins=30, density=True, alpha=0.6, color='g')\n",
    "\n",
    "# Plot the test function for comparison\n",
    "x = np.linspace(x_min, x_max, 1000)\n",
    "plt.plot(x, test_func(x) / np.sum(test_func(x)), color='blue', lw=2)  # Normalize for comparison\n",
    "\n",
    "plt.title('Histogram of Samples Generated from Test Function')\n",
    "plt.xlabel('Value')\n",
    "plt.ylabel('Density')\n",
    "plt.grid()\n",
    "plt.show()"
   ]
  },
  {
   "cell_type": "markdown",
   "metadata": {},
   "source": [
    "*Exercise 8:* Use your function to generate 1000 numbers that are normal distributed, using the `gaussian` function below. Confirm the mean and variance of the data is close to the mean and variance you specify when building the Gaussian. Histogram the data. "
   ]
  },
  {
   "cell_type": "code",
   "execution_count": 89,
   "metadata": {},
   "outputs": [
    {
     "name": "stdout",
     "output_type": "stream",
     "text": [
      "Calculated Mean: -0.0376\n",
      "Calculated Variance: 1.0608\n"
     ]
    },
    {
     "ename": "NameError",
     "evalue": "name 'math' is not defined",
     "output_type": "error",
     "traceback": [
      "\u001b[1;31m---------------------------------------------------------------------------\u001b[0m",
      "\u001b[1;31mNameError\u001b[0m                                 Traceback (most recent call last)",
      "Cell \u001b[1;32mIn[89], line 36\u001b[0m\n\u001b[0;32m     34\u001b[0m \u001b[38;5;66;03m# Plot the Gaussian function for comparison\u001b[39;00m\n\u001b[0;32m     35\u001b[0m x \u001b[38;5;241m=\u001b[39m np\u001b[38;5;241m.\u001b[39mlinspace(mean \u001b[38;5;241m-\u001b[39m \u001b[38;5;241m4\u001b[39m \u001b[38;5;241m*\u001b[39m sigma, mean \u001b[38;5;241m+\u001b[39m \u001b[38;5;241m4\u001b[39m \u001b[38;5;241m*\u001b[39m sigma, \u001b[38;5;241m1000\u001b[39m)\n\u001b[1;32m---> 36\u001b[0m plt\u001b[38;5;241m.\u001b[39mplot(x, gaussian(mean, sigma)(x), color\u001b[38;5;241m=\u001b[39m\u001b[38;5;124m'\u001b[39m\u001b[38;5;124mblue\u001b[39m\u001b[38;5;124m'\u001b[39m, lw\u001b[38;5;241m=\u001b[39m\u001b[38;5;241m2\u001b[39m)\n\u001b[0;32m     38\u001b[0m plt\u001b[38;5;241m.\u001b[39mtitle(\u001b[38;5;124m'\u001b[39m\u001b[38;5;124mHistogram of Normally Distributed Samples\u001b[39m\u001b[38;5;124m'\u001b[39m)\n\u001b[0;32m     39\u001b[0m plt\u001b[38;5;241m.\u001b[39mxlabel(\u001b[38;5;124m'\u001b[39m\u001b[38;5;124mValue\u001b[39m\u001b[38;5;124m'\u001b[39m)\n",
      "Cell \u001b[1;32mIn[89], line 6\u001b[0m, in \u001b[0;36mgaussian.<locals>.f\u001b[1;34m(x)\u001b[0m\n\u001b[0;32m      5\u001b[0m \u001b[38;5;28;01mdef\u001b[39;00m \u001b[38;5;21mf\u001b[39m(x):\n\u001b[1;32m----> 6\u001b[0m     \u001b[38;5;28;01mreturn\u001b[39;00m (math\u001b[38;5;241m.\u001b[39mexp(\u001b[38;5;241m-\u001b[39m((x \u001b[38;5;241m-\u001b[39m mean) \u001b[38;5;241m*\u001b[39m\u001b[38;5;241m*\u001b[39m \u001b[38;5;241m2\u001b[39m) \u001b[38;5;241m/\u001b[39m (\u001b[38;5;241m2\u001b[39m \u001b[38;5;241m*\u001b[39m sigma \u001b[38;5;241m*\u001b[39m\u001b[38;5;241m*\u001b[39m \u001b[38;5;241m2\u001b[39m)) \u001b[38;5;241m/\u001b[39m \n\u001b[0;32m      7\u001b[0m             (math\u001b[38;5;241m.\u001b[39msqrt(\u001b[38;5;241m2\u001b[39m \u001b[38;5;241m*\u001b[39m math\u001b[38;5;241m.\u001b[39mpi) \u001b[38;5;241m*\u001b[39m sigma))\n",
      "\u001b[1;31mNameError\u001b[0m: name 'math' is not defined"
     ]
    },
    {
     "data": {
      "image/png": "[encoded data removed]",
      "text/plain": [
       "<Figure size 1000x600 with 1 Axes>"
      ]
     },
     "metadata": {},
     "output_type": "display_data"
    }
   ],
   "source": [
    "import numpy as np\n",
    "import matplotlib.pyplot as plt\n",
    "\n",
    "def gaussian(mean, sigma):\n",
    "    def f(x):\n",
    "        return (math.exp(-((x - mean) ** 2) / (2 * sigma ** 2)) / \n",
    "                (math.sqrt(2 * math.pi) * sigma))\n",
    "    return f\n",
    "\n",
    "# Function to generate normally distributed random samples\n",
    "def generate_normal_samples(mean, sigma, n_samples=1000):\n",
    "    samples = np.random.normal(mean, sigma, n_samples)\n",
    "    return samples\n",
    "\n",
    "# Parameters for the Gaussian\n",
    "mean = 0\n",
    "sigma = 1\n",
    "\n",
    "# Generate samples\n",
    "samples = generate_normal_samples(mean, sigma)\n",
    "\n",
    "# Calculate mean and variance of the generated samples\n",
    "calculated_mean = np.mean(samples)\n",
    "calculated_variance = np.var(samples)\n",
    "\n",
    "# Print mean and variance\n",
    "print(f\"Calculated Mean: {calculated_mean:.4f}\")\n",
    "print(f\"Calculated Variance: {calculated_variance:.4f}\")\n",
    "\n",
    "# Plot histogram\n",
    "plt.figure(figsize=(10, 6))\n",
    "plt.hist(samples, bins=30, density=True, alpha=0.6, color='g')\n",
    "\n",
    "# Plot the Gaussian function for comparison\n",
    "x = np.linspace(mean - 4 * sigma, mean + 4 * sigma, 1000)\n",
    "plt.plot(x, gaussian(mean, sigma)(x), color='blue', lw=2)\n",
    "\n",
    "plt.title('Histogram of Normally Distributed Samples')\n",
    "plt.xlabel('Value')\n",
    "plt.ylabel('Density')\n",
    "plt.grid()\n",
    "plt.show()"
   ]
  },
  {
   "cell_type": "markdown",
   "metadata": {},
   "source": [
    "*Exercise 9:* Combine your `generate_function`, `where`, and `in_range` functions above to create an integrate function. Use your integrate function to show that approximately 68% of Normal distribution is within one variance."
   ]
  },
  {
   "cell_type": "code",
   "execution_count": null,
   "metadata": {},
   "outputs": [],
   "source": [
    "import numpy as np\n",
    "import scipy.stats as stats\n",
    "\n",
    "def generate_function(mean, std_dev):\n",
    "    \"\"\"Generates a normal distribution function.\"\"\"\n",
    "    return lambda x: stats.norm.pdf(x, mean, std_dev)\n",
    "\n",
    "def in_range(x, lower, upper):\n",
    "    \"\"\"Checks if x is within the range [lower, upper].\"\"\"\n",
    "    return lower <= x <= upper\n",
    "\n",
    "def where(condition, values):\n",
    "    \"\"\"Returns values where condition is True.\"\"\"\n",
    "    return [value for condition_value, value in zip(condition, values) if condition_value]\n",
    "\n",
    "def integrate(func, x_min, x_max, n_points=1000):\n",
    "    \"\"\"Integrates a function func from x_min to x_max using the trapezoidal rule.\"\"\"\n",
    "    x_values = np.linspace(x_min, x_max, n_points)\n",
    "    y_values = func(x_values)\n",
    "    integral = np.trapz(y_values, x_values)\n",
    "    return integral\n",
    "\n",
    "# Parameters for the normal distribution\n",
    "mean = 0\n",
    "std_dev = 1\n",
    "\n",
    "# Generate the normal distribution function\n",
    "normal_function = generate_function(mean, std_dev)\n",
    "\n",
    "# Define the range for one standard deviation\n",
    "x_min = mean - std_dev\n",
    "x_max = mean + std_dev\n",
    "\n",
    "# Calculate the integral over the range\n",
    "result = integrate(normal_function, x_min, x_max)\n",
    "\n",
    "print(f\"Approximate area under the curve within one standard deviation: {result:.4f}\")"
   ]
  }
 ],
 "metadata": {
  "kernelspec": {
   "display_name": "Python 3 (ipykernel)",
   "language": "python",
   "name": "python3"
  },
  "language_info": {
   "codemirror_mode": {
    "name": "ipython",
    "version": 3
   },
   "file_extension": ".py",
   "mimetype": "text/x-python",
   "name": "python",
   "nbconvert_exporter": "python",
   "pygments_lexer": "ipython3",
   "version": "3.11.7"
  }
 },
 "nbformat": 4,
 "nbformat_minor": 4
}

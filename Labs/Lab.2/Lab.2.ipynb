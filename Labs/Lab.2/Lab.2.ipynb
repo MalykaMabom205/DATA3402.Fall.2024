LAB 
{
 "cells": [
  {
   "cell_type": "markdown",
   "metadata": {},
   "source": [
    "## Lab 2- Tic Tac Toe\n",
    "\n",
    "In this lab your will build a n x n Tic Tac Toe game. As you do the exercises, make sure your solutions work for any size Tic Tac Toe game. "
   ]
  },
  {
   "cell_type": "markdown",
   "metadata": {},
   "source": [
    "*Exercise 1:* Write a function that creates an n by n matrix (of list of lists) which will represent the state of a Tie Tac Toe game. Let 0, 1, and 2 represent empty, \"X\", and \"O\", respectively.\n"
   ]
  },
  {
   "cell_type": "code",
   "execution_count": null,
   "metadata": {
    "collapsed": true
   },
   "outputs": [],
   "source": [
    "# Write you solution here"
   ]
  },
  {
   "cell_type": "code",
   "execution_count": null,
   "metadata": {
    "collapsed": true
   },
   "outputs": [],
   "source": [
    "# Test your solution here"
   ]
  },
  {
   "cell_type": "markdown",
   "metadata": {},
   "source": [
    "*Exercise 2:* Write a function that takes 2 integers `n` and `m` as input and draws a `n` by `m` game board. For example the following is a 3x3 board:\n",
    "```\n",
    "   --- --- --- \n",
    "  |   |   |   | \n",
    "   --- --- ---  \n",
    "  |   |   |   | \n",
    "   --- --- ---  \n",
    "  |   |   |   | \n",
    "   --- --- --- \n",
    "   ```"
   ]
  },
  {
   "cell_type": "code",
   "execution_count": null,
   "metadata": {
    "collapsed": true
   },
   "outputs": [],
   "source": [
    "# Write you solution here"
   ]
  },
  {
   "cell_type": "code",
   "execution_count": null,
   "metadata": {
    "collapsed": true
   },
   "outputs": [],
   "source": [
    "# Test your solution here"
   ]
  },
  {
   "cell_type": "markdown",
   "metadata": {},
   "source": [
    "*Exercise 3:* Modify exercise 2, so that it takes a matrix of the form from exercise 1 and draws a tic-tac-tie board with \"X\"s and \"O\"s.  "
   ]
  },
  {
   "cell_type": "code",
   "execution_count": null,
   "metadata": {
    "collapsed": true
   },
   "outputs": [],
   "source": [
    "# Write you solution here"
   ]
  },
  {
   "cell_type": "code",
   "execution_count": null,
   "metadata": {
    "collapsed": true
   },
   "outputs": [],
   "source": [
    "# Test your solution here"
   ]
  },
  {
   "cell_type": "markdown",
   "metadata": {},
   "source": [
    "*Exercise 4:* Write a function that takes a `n` by `n` matrix representing a tic-tac-toe game, and returns -1, 0, 1, or 2 indicating the game is incomplete, the game is a draw, player 1 has won, or player 2 has one, respectively. Here are some example inputs you can use to test your code:"
   ]
  },
  {
   "cell_type": "code",
   "execution_count": null,
   "metadata": {
    "collapsed": true
   },
   "outputs": [],
   "source": [
    "# Write you solution here"
   ]
  },
  {
   "cell_type": "code",
   "execution_count": null,
   "metadata": {
    "collapsed": true
   },
   "outputs": [],
   "source": [
    "# Test your solution here"
   ]
  },
  {
   "cell_type": "code",
   "execution_count": null,
   "metadata": {
    "collapsed": true
   },
   "outputs": [],
   "source": [
    "winner_is_2 = [[2, 2, 0],\n",
    "\t[2, 1, 0],\n",
    "\t[2, 1, 1]]\n",
    "\n",
    "winner_is_1 = [[1, 2, 0],\n",
    "\t[2, 1, 0],\n",
    "\t[2, 1, 1]]\n",
    "\n",
    "winner_is_also_1 = [[0, 1, 0],\n",
    "\t[2, 1, 0],\n",
    "\t[2, 1, 1]]\n",
    "\n",
    "no_winner = [[1, 2, 0],\n",
    "\t[2, 1, 0],\n",
    "\t[2, 1, 2]]\n",
    "\n",
    "also_no_winner = [[1, 2, 0],\n",
    "\t[2, 1, 0],\n",
    "\t[2, 1, 0]]"
   ]
  },
  {
   "cell_type": "markdown",
   "metadata": {},
   "source": [
    "*Exercise 5:* Write a function that takes a game board, player number, and `(x,y)` coordinates and places \"X\" or \"O\" in the correct location of the game board. Make sure that you only allow filling previously empty locations. Return `True` or `False` to indicate successful placement of \"X\" or \"O\"."
   ]
  },
  {
   "cell_type": "code",
   "execution_count": null,
   "metadata": {
    "collapsed": true
   },
   "outputs": [],
   "source": [
    "# Write you solution here"
   ]
  },
  {
   "cell_type": "code",
   "execution_count": null,
   "metadata": {
    "collapsed": true
   },
   "outputs": [],
   "source": [
    "# Test your solution here"
   ]
  },
  {
   "cell_type": "markdown",
   "metadata": {},
   "source": [
    "*Exercise 6:* Modify Exercise 4 to show column and row labels so that players can specify location using \"A2\" or \"C1\"."
   ]
  },
  {
   "cell_type": "code",
   "execution_count": null,
   "metadata": {
    "collapsed": true
   },
   "outputs": [],
   "source": [
    "# Write you solution here"
   ]
  },
  {
   "cell_type": "code",
   "execution_count": null,
   "metadata": {
    "collapsed": true
   },
   "outputs": [],
   "source": [
    "# Test your solution here"
   ]
  },
  {
   "cell_type": "markdown",
   "metadata": {},
   "source": [
    "*Exercise 7:* Write a function that takes a board, player number, and location specified as in exercise 6 and then calls exercise 5 to correctly modify the board.  "
   ]
  },
  {
   "cell_type": "code",
   "execution_count": null,
   "metadata": {
    "collapsed": true
   },
   "outputs": [],
   "source": [
    "# Write you solution here"
   ]
  },
  {
   "cell_type": "code",
   "execution_count": null,
   "metadata": {
    "collapsed": true
   },
   "outputs": [],
   "source": [
    "# Test your solution here"
   ]
  },
  {
   "cell_type": "markdown",
   "metadata": {},
   "source": [
    "*Exercise 8:* Write a function is called with a board and player number, takes input from the player using python's `input`, and modifies the board using your function from exercise 7. Note that you should keep asking for input until you have gotten a valid input that results in a valid move."
   ]
  },
  {
   "cell_type": "code",
   "execution_count": null,
   "metadata": {
    "collapsed": true
   },
   "outputs": [],
   "source": [
    "# Write you solution here"
   ]
  },
  {
   "cell_type": "code",
   "execution_count": null,
   "metadata": {
    "collapsed": true
   },
   "outputs": [],
   "source": [
    "# Test your solution here"
   ]
  },
  {
   "cell_type": "markdown",
   "metadata": {},
   "source": [
    "*Exercise 9:* Use all of the previous exercises to implement a full tic-tac-toe game, where an appropriate board is drawn, 2 players are repeatedly asked for a location coordinates of where they wish to place a mark, and the game status is checked until a player wins or a draw occurs."
   ]
  },
  {
   "cell_type": "code",
   "execution_count": null,
   "metadata": {
    "collapsed": true
   },
   "outputs": [],
   "source": [
    "# Write you solution here"
   ]
  },
  {
   "cell_type": "code",
   "execution_count": null,
   "metadata": {
    "collapsed": true
   },
   "outputs": [],
   "source": [
    "# Test your solution here"
   ]
  },
  {
   "cell_type": "markdown",
   "metadata": {},
   "source": [
    "*Exercise 10:* Test that your game works for 5x5 Tic Tac Toe.  "
   ]
  },
  {
   "cell_type": "code",
   "execution_count": null,
   "metadata": {
    "collapsed": true
   },
   "outputs": [],
   "source": [
    "# Test your solution here"
   ]
  },
  {
   "cell_type": "markdown",
   "metadata": {},
   "source": [
    "*Exercise 11:* (Advanced / Challenge) Develop a version of the game where one player is the computer. Note that you don't need to do an extensive seach for the best move. You can have the computer simply protect against loosing and otherwise try to win with straight or diagonal patterns."
   ]
  },
  {
   "cell_type": "code",
   "execution_count": null,
   "metadata": {
    "collapsed": true
   },
   "outputs": [],
   "source": [
    "# Write you solution here"
   ]
  },
  {
   "cell_type": "code",
   "execution_count": null,
   "metadata": {
    "collapsed": true
   },
   "outputs": [],
   "source": [
    "# Test your solution here"
   ]
  }
 ],
 "metadata": {
  "kernelspec": {
   "display_name": "Python 3 (ipykernel)",
   "language": "python",
   "name": "python3"
  },
  "language_info": {
   "codemirror_mode": {
    "name": "ipython",
    "version": 3
   },
   "file_extension": ".py",
   "mimetype": "text/x-python",
   "name": "python",
   "nbconvert_exporter": "python",
   "pygments_lexer": "ipython3",
   "version": "3.9.6"
  }
 },
 "nbformat": 4,
 "nbformat_minor": 2
}

LAB FILLED IN 
{
 "cells": [
  {
   "cell_type": "markdown",
   "metadata": {},
   "source": [
    "## Lab 2- Tic Tac Toe\n",
    "\n",
    "In this lab, you will build an n x n Tic Tac Toe game. As you do the exercises, make sure your solutions work for any size Tic Tac Toe game. "
   ]
  },
  {
   "cell_type": "markdown",
   "metadata": {},
   "source": [
    "*Exercise 1:* Write a function that creates an n by n matrix (list of lists) which will represent the state of a Tic Tac Toe game. Let 0, 1, and 2 represent empty, \"X\", and \"O\", respectively."
   ]
  },
  {
   "cell_type": "code",
   "execution_count": null,
   "metadata": {
    "collapsed": true
   },
   "outputs": [],
   "source": [
    "def create_board(n):\n",
    "    return [[0 for _ in range(n)] for _ in range(n)]"
   ]
  },
  {
   "cell_type": "code",
   "execution_count": null,
   "metadata": {
    "collapsed": true
   },
   "outputs": [],
   "source": [
    "# Test your solution here\n",
    "create_board(3)"
   ]
  },
  {
   "cell_type": "markdown",
   "metadata": {},
   "source": [
    "*Exercise 2:* Write a function that takes 2 integers `n` and `m` as input and draws a `n` by `m` game board."
   ]
  },
  {
   "cell_type": "code",
   "execution_count": null,
   "metadata": {
    "collapsed": true
   },
   "outputs": [],
   "source": [
    "def draw_board(n, m):\n",
    "    for _ in range(n):\n",
    "        print(' ---' * m)\n",
    "        print('|   ' * (m + 1))\n",
    "    print(' ---' * m)"
   ]
  },
  {
   "cell_type": "code",
   "execution_count": null,
   "metadata": {
    "collapsed": true
   },
   "outputs": [],
   "source": [
    "# Test your solution here\n",
    "draw_board(3, 3)"
   ]
  },
  {
   "cell_type": "markdown",
   "metadata": {},
   "source": [
    "*Exercise 3:* Modify exercise 2 so that it takes a matrix of the form from exercise 1 and draws a tic-tac-toe board with \"X\"s and \"O\"s."
   ]
  },
  {
   "cell_type": "code",
   "execution_count": null,
   "metadata": {
    "collapsed": true
   },
   "outputs": [],
   "source": [
    "def draw_board_from_matrix(board):\n",
    "    n = len(board)\n",
    "    for row in board:\n",
    "        print(' ---' * n)\n",
    "        print('| ' + ' | '.join(['X' if x == 1 else 'O' if x == 2 else ' ' for x in row]) + ' |')\n",
    "    print(' ---' * n)"
   ]
  },
  {
   "cell_type": "code",
   "execution_count": null,
   "metadata": {
    "collapsed": true
   },
   "outputs": [],
   "source": [
    "# Test your solution here\n",
    "board = [[1, 2, 0], [0, 1, 2], [2, 1, 0]]\n",
    "draw_board_from_matrix(board)"
   ]
  },
  {
   "cell_type": "markdown",
   "metadata": {},
   "source": [
    "*Exercise 4:* Write a function that takes a `n` by `n` matrix representing a tic-tac-toe game and returns -1, 0, 1, or 2 indicating the game is incomplete, the game is a draw, player 1 has won, or player 2 has won, respectively."
   ]
  },
  {
   "cell_type": "code",
   "execution_count": null,
   "metadata": {
    "collapsed": true
   },
   "outputs": [],
   "source": [
    "def check_winner(board):\n",
    "    n = len(board)\n",
    "    for i in range(n):\n",
    "        # Check rows and columns\n",
    "        if all(board[i][j] == 1 for j in range(n)) or all(board[j][i] == 1 for j in range(n)):\n",
    "            return 1\n",
    "        if all(board[i][j] == 2 for j in range(n)) or all(board[j][i] == 2 for j in range(n)):\n",
    "            return 2\n",
    "    # Check diagonals\n",
    "    if all(board[i][i] == 1 for i in range(n)) or all(board[i][n-i-1] == 1 for i in range(n)):\n",
    "        return 1\n",
    "    if all(board[i][i] == 2 for i in range(n)) or all(board[i][n-i-1] == 2 for i in range(n)):\n",
    "        return 2\n",
    "    # Check for draw or incomplete\n",
    "    if any(0 in row for row in board):\n",
    "        return -1  # Incomplete\n",
    "    return 0  # Draw"
   ]
  },
  {
   "cell_type": "code",
   "execution_count": null,
   "metadata": {
    "collapsed": true
   },
   "outputs": [],
   "source": [
    "# Test your solution here\n",
    "winner_is_2 = [[2, 2, 0], [2, 1, 0], [2, 1, 1]]\n",
    "print(check_winner(winner_is_2))  # Output should be 2\n",
    "\n",
    "winner_is_1 = [[1, 2, 0], [2, 1, 0], [2, 1, 1]]\n",
    "print(check_winner(winner_is_1))  # Output should be 1\n",
    "\n",
    "no_winner = [[1, 2, 0], [2, 1, 0], [2, 1, 2]]\n",
    "print(check_winner(no_winner))  # Output should be -1\n",
    "\n",
    "draw = [[1, 2, 1], [2, 1, 2], [2, 1, 2]]\n",
    "print(check_winner(draw))  # Output should be 0"
   ]
  },
  {
   "cell_type": "markdown",
   "metadata": {},
   "source": [
    "*Exercise 5:* Write a function that takes a game board, player number, and `(x,y)` coordinates and places \"X\" or \"O\" in the correct location of the game board."
   ]
  },
  {
   "cell_type": "code",
   "execution_count": null,
   "metadata": {
    "collapsed": true
   },
   "outputs": [],
   "source": [
    "def place_mark(board, player, x, y):\n",
    "    if board[x][y] == 0:\n",
    "        board[x][y] = player\n",
    "        return True\n",
    "    return False"
   ]
  },
  {
   "cell_type": "code",
   "execution_count": null,
   "metadata": {
    "collapsed": true
   },
   "outputs": [],
   "source": [
    "# Test your solution here\n",
    "board = [[0, 0, 0], [0, 0, 0], [0, 0, 0]]\n",
    "print(place_mark(board, 1, 0, 0))  # Output should be True\n",
    "print(place_mark(board, 2, 0, 0))  # Output should be False\n",
    "draw_board_from_matrix(board)"
   ]
  },
  {
   "cell_type": "markdown",
   "metadata": {},
   "source": [
    "*Exercise 6:* Modify Exercise 4 to show column and row labels so that players can specify location using \"A2\" or \"C1\"."
   ]
  },
  {
   "cell_type": "code",
   "execution_count": null,
   "metadata": {
    "collapsed": true
   },
   "outputs": [],
   "source": [
    "def draw_board_with_labels(board):\n",
    "    n = len(board)\n",
    "    cols = ' ABCDEFGHIJKLMNOPQRSTUVWXYZ'\n",
    "    print('   ' + ' '.join(cols[1:n+1]))\n",
    "    for i, row in enumerate(board):\n",
    "        print(cols[i+1] + ' ' + ' ---' * n)\n",
    "        print(cols[i+1] + ' | ' + ' | '.join(['X' if x == 1 else 'O' if x == 2 else ' ' for x in row]) + ' |')\n",
    "    print('   ' + ' ---' * n)"
   ]
  },
  {
   "cell_type": "code",
   "execution_count": null,
   "metadata": {
    "collapsed": true
   },
   "outputs": [],
   "source": [
    "# Test your solution here\n",
    "board = [[1, 2, 0], [0, 1, 2], [2, 1, 0]]\n",
    "draw_board_with_labels(board)"
   ]
  }
 ]
}

LAB ANSWER

# Exercise 1: Create an n x n Tic Tac Toe board
def create_board(n):
    return [[0 for _ in range(n)] for _ in range(n)]

# Exercise 2: Draw an n x m game board (for debugging)
def draw_board(n, m):
    for _ in range(n):
        print(' ---' * m)
        print('|   ' * (m + 1))
    print(' ---' * m)

# Exercise 3: Draw a Tic Tac Toe board with X's and O's from a matrix
def draw_board_from_matrix(board):
    n = len(board)
    for row in board:
        print(' ---' * n)
        print('| ' + ' | '.join(['X' if x == 1 else 'O' if x == 2 else ' ' for x in row]) + ' |')
    print(' ---' * n)

# Exercise 4: Check if there is a winner in the Tic Tac Toe game
def check_winner(board):
    n = len(board)
    
    # Check rows and columns
    for i in range(n):
        if all(board[i][j] == 1 for j in range(n)) or all(board[j][i] == 1 for j in range(n)):
            return 1
        if all(board[i][j] == 2 for j in range(n)) or all(board[j][i] == 2 for j in range(n)):
            return 2
    
    # Check diagonals
    if all(board[i][i] == 1 for i in range(n)) or all(board[i][n-i-1] == 1 for i in range(n)):
        return 1
    if all(board[i][i] == 2 for i in range(n)) or all(board[i][n-i-1] == 2 for i in range(n)):
        return 2
    
    # Check for incomplete game
    if any(0 in row for row in board):
        return -1  # Incomplete game
    
    # If no winner and the game is complete, return 0 for a draw
    return 0

# Exercise 5: Place a mark on the board
def place_mark(board, player, x, y):
    if board[x][y] == 0:
        board[x][y] = player
        return True
    return False

# Exercise 6: Draw a Tic Tac Toe board with column and row labels
def draw_board_with_labels(board):
    n = len(board)
    cols = ' ABCDEFGHIJKLMNOPQRSTUVWXYZ'
    print('   ' + '   '.join(cols[1:n+1]))
    for i, row in enumerate(board):
        print(cols[i+1] + ' ' + ' ---' * n)
        print(cols[i+1] + ' | ' + ' | '.join(['X' if x == 1 else 'O' if x == 2 else ' ' for x in row]) + ' |')
    print('   ' + ' ---' * n)

# Exercise 7: Convert "A1", "B2", etc. to (x, y) coordinates
def convert_position(pos):
    col = ord(pos[0].upper()) - ord('A')
    row = int(pos[1]) - 1
    return row, col

# Exercise 7: Modify the board with player input
def place_mark_by_position(board, player, pos):
    x, y = convert_position(pos)
    return place_mark(board, player, x, y)

# Exercise 8: Get valid player input and place the mark
def get_player_move(board, player):
    while True:
        pos = input(f"Player {player} (X if 1, O if 2), enter position (e.g., A1, B2): ")
        if len(pos) == 2 and pos[0].isalpha() and pos[1].isdigit():
            if place_mark_by_position(board, player, pos):
                break
            else:
                print("That position is already taken. Try again.")
        else:
            print("Invalid input. Try again.")

# Exercise 9: Implement the full game loop
def play_game():
    print("Welcome to Tic Tac Toe!")
    n = int(input("Enter the size of the Tic Tac Toe board (e.g., 3 for 3x3): "))
    board = create_board(n)
    
    current_player = 1
    while True:
        draw_board_with_labels(board)
        get_player_move(board, current_player)
        result = check_winner(board)
        
        if result == 1:
            draw_board_with_labels(board)
            print("Player 1 (X) wins!")
            break
        elif result == 2:
            draw_board_with_labels(board)
            print("Player 2 (O) wins!")
            break
        elif result == 0:
            draw_board_with_labels(board)
            print("It's a draw!")
            break
        
        # Switch players
        current_player = 2 if current_player == 1 else 1

# Test the full game
play_game()

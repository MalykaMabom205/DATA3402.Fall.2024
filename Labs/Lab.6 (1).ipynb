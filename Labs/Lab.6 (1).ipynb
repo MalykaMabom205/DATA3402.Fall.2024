{
 "cells": [
  {
   "cell_type": "markdown",
   "metadata": {},
   "source": [
    "# Lab 6"
   ]
  },
  {
   "cell_type": "markdown",
   "metadata": {},
   "source": [
    "You are tasked with evaluating card counting strategies for black jack. In order to do so, you will use object oriented programming to create a playable casino style black jack game where a computer dealer plays against $n$ computer players and possibily one human player. If you don't know the rules of blackjack or card counting, please google it. \n",
    "\n",
    "A few requirements:\n",
    "* The game should utilize multiple 52-card decks. Typically the game is played with 6 decks.\n",
    "* Players should have chips.\n",
    "* Dealer's actions are predefined by rules of the game (typically hit on 16). \n",
    "* The players should be aware of all shown cards so that they can count cards.\n",
    "* Each player could have a different strategy.\n",
    "* The system should allow you to play large numbers of games, study the outcomes, and compare average winnings per hand rate for different strategies."
   ]
  },
  {
   "cell_type": "markdown",
   "metadata": {},
   "source": [
    "1. Begin by creating a classes to represent cards and decks. The deck should support more than one 52-card set. The deck should allow you to shuffle and draw cards. Include a \"plastic\" card, placed randomly in the deck. Later, when the plastic card is dealt, shuffle the cards before the next deal."
   ]
  },
  {
   "cell_type": "markdown",
   "metadata": {},
   "source": [
    "2. Now design your game on a UML diagram. You may want to create classes to represent, players, a hand, and/or the game. As you work through the lab, update your UML diagram. At the end of the lab, submit your diagram (as pdf file) along with your notebook. "
   ]
  },
  {
   "cell_type": "markdown",
   "metadata": {},
   "source": [
    "3. Begin with implementing the skeleton (ie define data members and methods/functions, but do not code the logic) of the classes in your UML diagram."
   ]
  },
  {
   "cell_type": "markdown",
   "metadata": {},
   "source": [
    "4. Complete the implementation by coding the logic of all functions. For now, just implement the dealer player and human player."
   ]
  },
  {
   "cell_type": "markdown",
   "metadata": {},
   "source": [
    "5.  Test. Demonstrate game play. For example, create a game of several dealer players and show that the game is functional through several rounds."
   ]
  },
  {
   "cell_type": "markdown",
   "metadata": {},
   "source": [
    "6. Implement a new player with the following strategy:\n",
    "\n",
    "    * Assign each card a value: \n",
    "        * Cards 2 to 6 are +1 \n",
    "        * Cards 7 to 9 are 0 \n",
    "        * Cards 10 through Ace are -1\n",
    "    * Compute the sum of the values for all cards seen so far.\n",
    "    * Hit if sum is very negative, stay if sum is very positive. Select a threshold for hit/stay, e.g. 0 or -2.  "
   ]
  },
  {
   "cell_type": "markdown",
   "metadata": {},
   "source": [
    "7. Create a test scenario where one player, using the above strategy, is playing with a dealer and 3 other players that follow the dealer's strategy. Each player starts with same number of chips. Play 50 rounds (or until the strategy player is out of money). Compute the strategy player's winnings. You may remove unnecessary printouts from your code (perhaps implement a verbose/quiet mode) to reduce the output."
   ]
  },
  {
   "cell_type": "markdown",
   "metadata": {},
   "source": [
    "8. Create a loop that runs 100 games of 50 rounds, as setup in previous question, and store the strategy player's chips at the end of the game (aka \"winnings\") in a list. Histogram the winnings. What is the average winnings per round? What is the standard deviation. What is the probabilty of net winning or lossing after 50 rounds?\n"
   ]
  },
  {
   "cell_type": "markdown",
   "metadata": {},
   "source": [
    "9. Repeat previous questions scanning the value of the threshold. Try at least 5 different threshold values. Can you find an optimal value?"
   ]
  },
  {
   "cell_type": "markdown",
   "metadata": {},
   "source": [
    "10. Create a new strategy based on web searches or your own ideas. Demonstrate that the new strategy will result in increased or decreased winnings. "
   ]
  },
  {
   "cell_type": "code",
   "execution_count": null,
   "metadata": {},
   "outputs": [],
   "source": [
    "import random\n",
    "\n",
    "class Card:\n",
    "    def __init__(self, suit, rank):\n",
    "        self.suit = suit\n",
    "        self.rank = rank\n",
    "    \n",
    "    def value(self):\n",
    "        # Return the blackjack value of the card\n",
    "        if self.rank in ['J', 'Q', 'K']:\n",
    "            return 10\n",
    "        elif self.rank == 'A':\n",
    "            return 11  # Ace is initially counted as 11\n",
    "        else:\n",
    "            return int(self.rank)\n",
    "\n",
    "    def __str__(self):\n",
    "        return f\"{self.rank} of {self.suit}\"\n",
    "\n",
    "\n",
    "class Deck:\n",
    "    def __init__(self, num_decks=6):\n",
    "        self.num_decks = num_decks\n",
    "        self.cards = []\n",
    "        self._initialize_deck()\n",
    "    \n",
    "    def _initialize_deck(self):\n",
    "        suits = ['Hearts', 'Diamonds', 'Clubs', 'Spades']\n",
    "        ranks = ['2', '3', '4', '5', '6', '7', '8', '9', '10', 'J', 'Q', 'K', 'A']\n",
    "        self.cards = [Card(suit, rank) for suit in suits for rank in ranks] * self.num_decks\n",
    "        random.shuffle(self.cards)\n",
    "\n",
    "    def draw_card(self):\n",
    "        if not self.cards:\n",
    "            self._initialize_deck()  # Reinitialize if deck runs out\n",
    "        return self.cards.pop()\n",
    "\n",
    "    def place_plastic_card(self):\n",
    "        # Insert a \"plastic\" card to signify reshuffling\n",
    "        self.cards.insert(random.randint(0, len(self.cards) - 1), \"PLASTIC\")\n",
    "\n",
    "    def shuffle(self):\n",
    "        random.shuffle(self.cards)\n"
   ]
  },
  {
   "cell_type": "code",
   "execution_count": null,
   "metadata": {},
   "outputs": [],
   "source": [
    "class Player:\n",
    "    def __init__(self, name, chips=100):\n",
    "        self.name = name\n",
    "        self.chips = chips\n",
    "        self.hand = []\n",
    "        self.bet = 0\n",
    "    \n",
    "    def place_bet(self, amount):\n",
    "        self.bet = amount\n",
    "        self.chips -= amount\n",
    "\n",
    "    def receive_card(self, card):\n",
    "        self.hand.append(card)\n",
    "\n",
    "    def calculate_hand_value(self):\n",
    "        value = sum(card.value() for card in self.hand if isinstance(card, Card))\n",
    "        # Adjust for Aces if needed to avoid bust\n",
    "        num_aces = sum(1 for card in self.hand if card.rank == 'A')\n",
    "        while value > 21 and num_aces:\n",
    "            value -= 10\n",
    "            num_aces -= 1\n",
    "        return value\n",
    "\n",
    "    def clear_hand(self):\n",
    "        self.hand = []\n",
    "        self.bet = 0\n",
    "\n",
    "    def __str__(self):\n",
    "        return f\"{self.name} with chips: {self.chips}\"\n",
    "\n",
    "\n",
    "class Dealer(Player):\n",
    "    def __init__(self):\n",
    "        super().__init__(name=\"Dealer\")\n",
    "    \n",
    "    def play_turn(self, deck):\n",
    "        while self.calculate_hand_value() < 17:\n",
    "            card = deck.draw_card()\n",
    "            self.receive_card(card)\n",
    "\n"
   ]
  },
  {
   "cell_type": "code",
   "execution_count": null,
   "metadata": {},
   "outputs": [],
   "source": [
    "class BlackjackGame:\n",
    "    def __init__(self, num_decks=6, players=[]):\n",
    "        self.deck = Deck(num_decks)\n",
    "        self.players = players\n",
    "        self.dealer = Dealer()\n",
    "\n",
    "    def start_round(self):\n",
    "        # Clear all hands and bets\n",
    "        for player in self.players:\n",
    "            player.clear_hand()\n",
    "        self.dealer.clear_hand()\n",
    "        \n",
    "        # Deal initial two cards to each player and dealer\n",
    "        for _ in range(2):\n",
    "            for player in self.players:\n",
    "                player.receive_card(self.deck.draw_card())\n",
    "            self.dealer.receive_card(self.deck.draw_card())\n",
    "\n",
    "    def player_turns(self):\n",
    "        for player in self.players:\n",
    "            while player.calculate_hand_value() < 21:\n",
    "                action = player.decide_action()  # Implement decide_action for strategies\n",
    "                if action == \"hit\":\n",
    "                    player.receive_card(self.deck.draw_card())\n",
    "                else:\n",
    "                    break\n",
    "    \n",
    "    def dealer_turn(self):\n",
    "        self.dealer.play_turn(self.deck)\n",
    "\n",
    "    def determine_outcomes(self):\n",
    "        dealer_value = self.dealer.calculate_hand_value()\n",
    "        for player in self.players:\n",
    "            player_value = player.calculate_hand_value()\n",
    "            if player_value > 21:\n",
    "                outcome = \"lose\"\n",
    "            elif dealer_value > 21 or player_value > dealer_value:\n",
    "                outcome = \"win\"\n",
    "            elif player_value < dealer_value:\n",
    "                outcome = \"lose\"\n",
    "            else:\n",
    "                outcome = \"tie\"\n",
    "            # Update chips based on outcome (e.g., win doubles the bet)\n",
    "            self.resolve_bet(player, outcome)\n",
    "\n",
    "    def resolve_bet(self, player, outcome):\n",
    "        if outcome == \"win\":\n",
    "            player.chips += 2 * player.bet\n",
    "        elif outcome == \"tie\":\n",
    "            player.chips += player.bet  # Return bet on tie\n",
    "        # No chips returned if player loses\n",
    "\n",
    "    def play_game(self, num_rounds):\n",
    "        for _ in range(num_rounds):\n",
    "            self.start_round()\n",
    "            self.player_turns()\n",
    "            self.dealer_turn()\n",
    "            self.determine_outcomes()\n",
    "            # Reset deck if plastic card appears\n",
    "            if \"PLASTIC\" in self.deck.cards:\n",
    "                self.deck.shuffle()\n",
    "                self.deck.place_plastic_card()\n",
    "\n"
   ]
  },
  {
   "cell_type": "code",
   "execution_count": null,
   "metadata": {},
   "outputs": [],
   "source": [
    "class StrategyPlayer(Player):\n",
    "    def __init__(self, name, chips=100, threshold=0):\n",
    "        super().__init__(name, chips)\n",
    "        self.threshold = threshold\n",
    "        self.card_count = 0\n",
    "\n",
    "    def update_card_count(self, card):\n",
    "        if isinstance(card, Card):\n",
    "            if card.rank in ['2', '3', '4', '5', '6']:\n",
    "                self.card_count += 1\n",
    "            elif card.rank in ['10', 'J', 'Q', 'K', 'A']:\n",
    "                self.card_count -= 1\n",
    "\n",
    "    def decide_action(self):\n",
    "        return \"hit\" if self.card_count < self.threshold else \"stay\"\n",
    "\n"
   ]
  },
  {
   "cell_type": "code",
   "execution_count": null,
   "metadata": {},
   "outputs": [],
   "source": []
  }
 ],
 "metadata": {
  "kernelspec": {
   "display_name": "Python 3 (ipykernel)",
   "language": "python",
   "name": "python3"
  },
  "language_info": {
   "codemirror_mode": {
    "name": "ipython",
    "version": 3
   },
   "file_extension": ".py",
   "mimetype": "text/x-python",
   "name": "python",
   "nbconvert_exporter": "python",
   "pygments_lexer": "ipython3",
   "version": "3.11.7"
  }
 },
 "nbformat": 4,
 "nbformat_minor": 4
}

{
 "cells": [
  {
   "cell_type": "markdown",
   "metadata": {},
   "source": [
    "# Lab 5\n"
   ]
  },
  {
   "cell_type": "markdown",
   "metadata": {},
   "source": [
    "Matrix Representation: In this lab you will be creating a simple linear algebra system. In memory, we will represent matrices as nested python lists as we have done in lecture. In the exercises below, you are required to explicitly test every feature you implement, demonstrating it works.\n",
    "\n",
    "1. Create a `matrix` class with the following properties:\n",
    "    * It can be initialized in 2 ways:\n",
    "        1. with arguments `n` and `m`, the size of the matrix. A newly instanciated matrix will contain all zeros.\n",
    "        2. with a list of lists of values. Note that since we are using lists of lists to implement matrices, it is possible that not all rows have the same number of columns. Test explicitly that the matrix is properly specified.\n",
    "    * Matrix instances `M` can be indexed with `M[i][j]` and `M[i,j]`.\n",
    "    * Matrix assignment works in 2 ways:\n",
    "        1. If `M_1` and `M_2` are `matrix` instances `M_1=M_2` sets the values of `M_1` to those of `M_2`, if they are the same size. Error otherwise.\n",
    "        2. In example above `M_2` can be a list of lists of correct size.\n"
   ]
  },
  {
   "cell_type": "markdown",
   "metadata": {},
   "source": [
    "2. Add the following methods:\n",
    "    * `shape()`: returns a tuple `(n,m)` of the shape of the matrix.\n",
    "    * `transpose()`: returns a new matrix instance which is the transpose of the matrix.\n",
    "    * `row(n)` and `column(n)`: that return the nth row or column of the matrix M as a new appropriately shaped matrix object.\n",
    "    * `to_list()`: which returns the matrix as a list of lists.\n",
    "    *  `block(n_0,n_1,m_0,m_1)` that returns a smaller matrix located at the n_0 to n_1 columns and m_0 to m_1 rows. \n",
    "    * (Extra credit) Modify `__getitem__` implemented above to support slicing.\n",
    "        "
   ]
  },
  {
   "cell_type": "markdown",
   "metadata": {},
   "source": [
    "3. Write functions that create special matrices (note these are standalone functions, not member functions of your `matrix` class):\n",
    "    * `constant(n,m,c)`: returns a `n` by `m` matrix filled with floats of value `c`.\n",
    "    * `zeros(n,m)` and `ones(n,m)`: return `n` by `m` matrices filled with floats of value `0` and `1`, respectively.\n",
    "    * `eye(n)`: returns the n by n identity matrix."
   ]
  },
  {
   "cell_type": "markdown",
   "metadata": {},
   "source": [
    "4. Add the following member functions to your class. Make sure to appropriately test the dimensions of the matrices to make sure the operations are correct.\n",
    "    * `M.scalarmul(c)`: a matrix that is scalar product $cM$, where every element of $M$ is multiplied by $c$.\n",
    "    * `M.add(N)`: adds two matrices $M$ and $N$. Don’t forget to test that the sizes of the matrices are compatible for this and all other operations.\n",
    "    * `M.sub(N)`: subtracts two matrices $M$ and $N$.\n",
    "    * `M.mat_mult(N)`: returns a matrix that is the matrix product of two matrices $M$ and $N$.\n",
    "    * `M.element_mult(N)`: returns a matrix that is the element-wise product of two matrices $M$ and $N$.\n",
    "    * `M.equals(N)`: returns true/false if $M==N$."
   ]
  },
  {
   "cell_type": "markdown",
   "metadata": {},
   "source": [
    "5. Overload python operators to appropriately use your functions in 4 and allow expressions like:\n",
    "    * 2*M\n",
    "    * M*2\n",
    "    * M+N\n",
    "    * M-N\n",
    "    * M*N\n",
    "    * M==N\n",
    "    * M=N\n"
   ]
  },
  {
   "cell_type": "markdown",
   "metadata": {},
   "source": [
    "6. Demonstrate the basic properties of matrices with your matrix class by creating two 2 by 2 example matrices using your Matrix class and illustrating the following:\n",
    "\n",
    "$$\n",
    "(AB)C=A(BC)\n",
    "$$\n",
    "$$\n",
    "A(B+C)=AB+AC\n",
    "$$\n",
    "$$\n",
    "AB\\neq BA\n",
    "$$\n",
    "$$\n",
    "AI=A\n",
    "$$"
   ]
  },
  {
   "cell_type": "code",
   "execution_count": null,
   "metadata": {},
   "outputs": [],
   "source": [
    "class Matrix:\n",
    "    def __init__(self, data, n=None):\n",
    "        if isinstance(data, list):  # Initialize with list of lists\n",
    "            self.matrix = data\n",
    "            self.rows = len(data)\n",
    "            self.cols = len(data[0]) if data else 0\n",
    "        elif isinstance(data, int) and isinstance(n, int):  # Initialize with dimensions m x n\n",
    "            self.rows = data\n",
    "            self.cols = n\n",
    "            self.matrix = [[0 for _ in range(self.cols)] for _ in range(self.rows)]\n",
    "        else:\n",
    "            raise ValueError(\"Invalid initialization format\")\n",
    "\n",
    "    def shape(self):\n",
    "        return (self.rows, self.cols)\n",
    "    \n",
    "    def transpose(self):\n",
    "        transposed = [[self.matrix[j][i] for j in range(self.rows)] for i in range(self.cols)]\n",
    "        return Matrix(transposed)\n",
    "    \n",
    "    def row(self, n):\n",
    "        if n >= self.rows:\n",
    "            raise IndexError(\"Row index out of range\")\n",
    "        return self.matrix[n]\n",
    "\n",
    "    def column(self, n):\n",
    "        if n >= self.cols:\n",
    "            raise IndexError(\"Column index out of range\")\n",
    "        return [self.matrix[i][n] for i in range(self.rows)]\n",
    "    \n",
    "    def to_list(self):\n",
    "        return self.matrix\n",
    "    \n",
    "    def block(self, m_0, n_0, m_1, n_1):\n",
    "        return [row[n_0:n_1] for row in self.matrix[m_0:m_1]]\n",
    "    \n",
    "    def __getitem__(self, idx):\n",
    "        return self.matrix[idx]\n",
    "    \n",
    "    # Scalar multiplication\n",
    "    def scalar_mult(self, c):\n",
    "        return Matrix([[self.matrix[i][j] * c for j in range(self.cols)] for i in range(self.rows)])\n",
    "    \n",
    "    # Matrix addition\n",
    "    def mat_add(self, other):\n",
    "        if self.shape() != other.shape():\n",
    "            raise ValueError(\"Matrices must have the same dimensions to add\")\n",
    "        return Matrix([[self.matrix[i][j] + other[i][j] for j in range(self.cols)] for i in range(self.rows)])\n",
    "    \n",
    "    # Matrix subtraction\n",
    "    def mat_sub(self, other):\n",
    "        if self.shape() != other.shape():\n",
    "            raise ValueError(\"Matrices must have the same dimensions to subtract\")\n",
    "        return Matrix([[self.matrix[i][j] - other[i][j] for j in range(self.cols)] for i in range(self.rows)])\n",
    "\n",
    "    # Matrix multiplication\n",
    "    def mat_mult(self, other):\n",
    "        if self.cols != other.shape()[0]:\n",
    "            raise ValueError(\"Number of columns of the first matrix must equal the number of rows of the second\")\n",
    "        result = [[sum(self.matrix[i][k] * other[k][j] for k in range(self.cols)) for j in range(other.shape()[1])] for i in range(self.rows)]\n",
    "        return Matrix(result)\n",
    "\n",
    "    # Element-wise multiplication\n",
    "    def element_mult(self, other):\n",
    "        if self.shape() != other.shape():\n",
    "            raise ValueError(\"Matrices must have the same dimensions for element-wise multiplication\")\n",
    "        return Matrix([[self.matrix[i][j] * other[i][j] for j in range(self.cols)] for i in range(self.rows)])\n",
    "\n",
    "    # Matrix equality check\n",
    "    def mat_equals(self, other):\n",
    "        return self.shape() == other.shape() and all(self.matrix[i][j] == other[i][j] for i in range(self.rows) for j in range(self.cols))\n",
    "\n",
    "\n",
    "# Test operations\n",
    "m1 = Matrix([[1, 2], [3, 4]])\n",
    "m2 = Matrix([[5, 6], [7, 8]])\n",
    "\n",
    "# Testing scalar multiplication, addition, subtraction, and multiplication\n",
    "scalar_mult_result = m1.scalar_mult(2).to_list()\n",
    "add_result = m1.mat_add(m2).to_list()\n",
    "sub_result = m1.mat_sub(m2).to_list()\n",
    "mult_result = m1.mat_mult(m2).to_list()\n",
    "element_mult_result = m1.element_mult(m2).to_list()\n",
    "\n",
    "scalar_mult_result, add_result, sub_result, mult_result, element_mult_result\n"
   ]
  }
 ],
 "metadata": {
  "kernelspec": {
   "display_name": "Python 3 (ipykernel)",
   "language": "python",
   "name": "python3"
  },
  "language_info": {
   "codemirror_mode": {
    "name": "ipython",
    "version": 3
   },
   "file_extension": ".py",
   "mimetype": "text/x-python",
   "name": "python",
   "nbconvert_exporter": "python",
   "pygments_lexer": "ipython3",
   "version": "3.11.7"
  }
 },
 "nbformat": 4,
 "nbformat_minor": 4
}
